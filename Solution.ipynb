{
 "cells": [
  {
   "cell_type": "markdown",
   "metadata": {},
   "source": [
    "# Importing Libraries"
   ]
  },
  {
   "cell_type": "code",
   "execution_count": 68,
   "metadata": {},
   "outputs": [],
   "source": [
    "import pandas as pd\n",
    "import numpy as np\n",
    "import matplotlib.pyplot as plt\n",
    "import seaborn as sns\n",
    "\n",
    "from sklearn.model_selection import train_test_split, GridSearchCV\n",
    "from sklearn.preprocessing import StandardScaler\n",
    "from sklearn.ensemble import RandomForestClassifier\n",
    "from sklearn.svm import SVC\n",
    "from sklearn.neighbors import KNeighborsClassifier\n",
    "from sklearn.tree import DecisionTreeClassifier\n",
    "from sklearn.metrics import accuracy_score, classification_report\n",
    "from sklearn.model_selection import cross_val_score\n",
    "from sklearn.metrics import roc_auc_score, make_scorer\n",
    "\n",
    "import ast"
   ]
  },
  {
   "cell_type": "code",
   "execution_count": 64,
   "metadata": {},
   "outputs": [],
   "source": [
    "from xgboost import XGBClassifier\n",
    "from catboost import CatBoostClassifier\n",
    "from sklearn.metrics import precision_score, recall_score, f1_score, accuracy_score, roc_auc_score, confusion_matrix"
   ]
  },
  {
   "cell_type": "code",
   "execution_count": 2,
   "metadata": {},
   "outputs": [],
   "source": [
    "import json"
   ]
  },
  {
   "cell_type": "code",
   "execution_count": 3,
   "metadata": {},
   "outputs": [],
   "source": [
    "import warnings\n",
    "warnings.filterwarnings('ignore')"
   ]
  },
  {
   "cell_type": "markdown",
   "metadata": {},
   "source": [
    "# Loading the Data Samples"
   ]
  },
  {
   "cell_type": "code",
   "execution_count": 4,
   "metadata": {},
   "outputs": [
    {
     "data": {
      "text/plain": [
       "dict_keys(['id', 'platform', 'banking'])"
      ]
     },
     "execution_count": 4,
     "metadata": {},
     "output_type": "execute_result"
    }
   ],
   "source": [
    "f = open(\"bank_statement_data.json\")\n",
    "first_bank_data = json.load(f)\n",
    "first_bank_data.keys()"
   ]
  },
  {
   "cell_type": "code",
   "execution_count": 5,
   "metadata": {},
   "outputs": [
    {
     "name": "stdout",
     "output_type": "stream",
     "text": [
      "xxxx multi_bank_ocr\n"
     ]
    }
   ],
   "source": [
    "print(first_bank_data[\"id\"], first_bank_data[\"platform\"])"
   ]
  },
  {
   "cell_type": "markdown",
   "metadata": {},
   "source": [
    "From the `json` sample data, it consist of the id, platform, and banking section. The useful information that we can use for the assignment purpose located in the `banking` section"
   ]
  },
  {
   "cell_type": "code",
   "execution_count": 6,
   "metadata": {
    "scrolled": true
   },
   "outputs": [
    {
     "data": {
      "text/plain": [
       "dict_keys(['Account', 'Transactions', 'Credit', 'Credits Overview', 'Debit', 'Debits Overview', 'Analysis'])"
      ]
     },
     "execution_count": 6,
     "metadata": {},
     "output_type": "execute_result"
    }
   ],
   "source": [
    "first_bank_data[\"banking\"].keys()"
   ]
  },
  {
   "cell_type": "markdown",
   "metadata": {},
   "source": [
    "Inside the `banking` section, there are  several informations available provided from the bank statement OCR service such as account holder details, detailed transactions, credit and debit aggregated information, with the analysis information"
   ]
  },
  {
   "cell_type": "code",
   "execution_count": 7,
   "metadata": {},
   "outputs": [
    {
     "data": {
      "text/plain": [
       "[{'Account Holder name': 'BAYU KURNIAWAN',\n",
       "  'Account Number': '6280723124',\n",
       "  'Address': 'MUNJUL RT 08 RW 002 CIPAYUNG GG BUNTU NO 22 JAKARTA 13850 INDONESIA',\n",
       "  'Bank Name': 'BCA',\n",
       "  'Period': 'July 2023, August 2023, September 2023',\n",
       "  'Type': 'REKENING TAHAPAN'}]"
      ]
     },
     "execution_count": 7,
     "metadata": {},
     "output_type": "execute_result"
    }
   ],
   "source": [
    "first_bank_data[\"banking\"][\"Account\"]"
   ]
  },
  {
   "cell_type": "code",
   "execution_count": 8,
   "metadata": {},
   "outputs": [
    {
     "data": {
      "text/plain": [
       "{'6280723124': [{'Ending balances': 10555228.07,\n",
       "   'Starting balances': 1422946.07,\n",
       "   'average_EOD_balance': 6926185.13,\n",
       "   'index': 'Jul-2023',\n",
       "   'max_EOD_balance': 20504443.07,\n",
       "   'min_EOD_balance': 72343.07,\n",
       "   'month': 'Jul-2023',\n",
       "   'total_amount_of_cash_deposits': 0.0,\n",
       "   'total_amount_of_cash_withdrawals': 0.0,\n",
       "   'total_amount_of_credit_transactions': 122049000.0,\n",
       "   'total_amount_of_debit_transactions': 112916718.0,\n",
       "   'total_credit_transactions': 46,\n",
       "   'total_debit_transactions': 107,\n",
       "   'total_number_of_cash_deposits': 0,\n",
       "   'total_number_of_cash_withdrawals': 0},\n",
       "  {'Ending balances': 2665921.07,\n",
       "   'Starting balances': 10555228.07,\n",
       "   'average_EOD_balance': 3575942.39,\n",
       "   'index': 'Aug-2023',\n",
       "   'max_EOD_balance': 11647928.07,\n",
       "   'min_EOD_balance': 53828.07,\n",
       "   'month': 'Aug-2023',\n",
       "   'total_amount_of_cash_deposits': 0.0,\n",
       "   'total_amount_of_cash_withdrawals': 0.0,\n",
       "   'total_amount_of_credit_transactions': 103866000.0,\n",
       "   'total_amount_of_debit_transactions': 111755307.0,\n",
       "   'total_credit_transactions': 44,\n",
       "   'total_debit_transactions': 103,\n",
       "   'total_number_of_cash_deposits': 0,\n",
       "   'total_number_of_cash_withdrawals': 0},\n",
       "  {'Ending balances': 64890526.84,\n",
       "   'Starting balances': 2665921.07,\n",
       "   'average_EOD_balance': 3621030.38,\n",
       "   'index': 'Sep-2023',\n",
       "   'max_EOD_balance': 64890526.84,\n",
       "   'min_EOD_balance': 98021.07,\n",
       "   'month': 'Sep-2023',\n",
       "   'total_amount_of_cash_deposits': 0.0,\n",
       "   'total_amount_of_cash_withdrawals': 0.0,\n",
       "   'total_amount_of_credit_transactions': 224770775.76999998,\n",
       "   'total_amount_of_debit_transactions': 162546170.0,\n",
       "   'total_credit_transactions': 42,\n",
       "   'total_debit_transactions': 71,\n",
       "   'total_number_of_cash_deposits': 0,\n",
       "   'total_number_of_cash_withdrawals': 0}]}"
      ]
     },
     "execution_count": 8,
     "metadata": {},
     "output_type": "execute_result"
    }
   ],
   "source": [
    "first_bank_data[\"banking\"][\"Analysis\"]"
   ]
  },
  {
   "cell_type": "code",
   "execution_count": 9,
   "metadata": {},
   "outputs": [],
   "source": [
    "first_bank_df = pd.DataFrame(first_bank_data[\"banking\"][\"Transactions\"])"
   ]
  },
  {
   "cell_type": "code",
   "execution_count": 10,
   "metadata": {},
   "outputs": [
    {
     "data": {
      "text/html": [
       "<div>\n",
       "<style scoped>\n",
       "    .dataframe tbody tr th:only-of-type {\n",
       "        vertical-align: middle;\n",
       "    }\n",
       "\n",
       "    .dataframe tbody tr th {\n",
       "        vertical-align: top;\n",
       "    }\n",
       "\n",
       "    .dataframe thead th {\n",
       "        text-align: right;\n",
       "    }\n",
       "</style>\n",
       "<table border=\"1\" class=\"dataframe\">\n",
       "  <thead>\n",
       "    <tr style=\"text-align: right;\">\n",
       "      <th></th>\n",
       "      <th>Account Number</th>\n",
       "      <th>Amount</th>\n",
       "      <th>Balance</th>\n",
       "      <th>Bank Name</th>\n",
       "      <th>Category</th>\n",
       "      <th>Date</th>\n",
       "      <th>Descriptor</th>\n",
       "      <th>Detail</th>\n",
       "      <th>Month</th>\n",
       "      <th>Name</th>\n",
       "      <th>Serial Number</th>\n",
       "      <th>Type</th>\n",
       "    </tr>\n",
       "  </thead>\n",
       "  <tbody>\n",
       "    <tr>\n",
       "      <th>0</th>\n",
       "      <td>6280723124</td>\n",
       "      <td>0.0</td>\n",
       "      <td>10555228.07</td>\n",
       "      <td>BCA</td>\n",
       "      <td>SALDO AWAL</td>\n",
       "      <td>2023-08-01</td>\n",
       "      <td>SALDO AWAL</td>\n",
       "      <td>SALDO AWAL</td>\n",
       "      <td>Aug-2023</td>\n",
       "      <td>SALDO AWAL</td>\n",
       "      <td>1</td>\n",
       "      <td>CREDIT</td>\n",
       "    </tr>\n",
       "    <tr>\n",
       "      <th>1</th>\n",
       "      <td>6280723124</td>\n",
       "      <td>500000.0</td>\n",
       "      <td>11055228.07</td>\n",
       "      <td>BCA</td>\n",
       "      <td>TRANSFER FROM NYICIL CASBON BINTORO</td>\n",
       "      <td>2023-08-01</td>\n",
       "      <td>TRSF E-BANKING CR TANGGAL :31/07</td>\n",
       "      <td>TRSF E-BANKING CR TANGGAL :31/07 3107/FTSCY/WS...</td>\n",
       "      <td>Aug-2023</td>\n",
       "      <td>NYICIL CASBON BINTORO</td>\n",
       "      <td>2</td>\n",
       "      <td>CREDIT</td>\n",
       "    </tr>\n",
       "    <tr>\n",
       "      <th>2</th>\n",
       "      <td>6280723124</td>\n",
       "      <td>-800000.0</td>\n",
       "      <td>10255228.07</td>\n",
       "      <td>BCA</td>\n",
       "      <td>TRANSFER TO YUYUN EKA WIYANTI M</td>\n",
       "      <td>2023-08-01</td>\n",
       "      <td>SWITCHING DB</td>\n",
       "      <td>SWITCHING DB TRANSFER KE 002 YUYUN EKA WIYANTI...</td>\n",
       "      <td>Aug-2023</td>\n",
       "      <td>YUYUN EKA WIYANTI M</td>\n",
       "      <td>3</td>\n",
       "      <td>DEBIT</td>\n",
       "    </tr>\n",
       "    <tr>\n",
       "      <th>3</th>\n",
       "      <td>6280723124</td>\n",
       "      <td>-6500.0</td>\n",
       "      <td>10248728.07</td>\n",
       "      <td>BCA</td>\n",
       "      <td>TRANSFER TO YUYUN EKA WIYANTI M</td>\n",
       "      <td>2023-08-01</td>\n",
       "      <td>SWITCHING DB</td>\n",
       "      <td>SWITCHING DB TRANSFER KE 002 YUYUN EKA WIYANTI...</td>\n",
       "      <td>Aug-2023</td>\n",
       "      <td>YUYUN EKA WIYANTI M</td>\n",
       "      <td>4</td>\n",
       "      <td>DEBIT</td>\n",
       "    </tr>\n",
       "    <tr>\n",
       "      <th>4</th>\n",
       "      <td>6280723124</td>\n",
       "      <td>-100000.0</td>\n",
       "      <td>10148728.07</td>\n",
       "      <td>BCA</td>\n",
       "      <td>TRANSFER TO DEPOSIT SELLA NUR FAUZIAH SALIM</td>\n",
       "      <td>2023-08-02</td>\n",
       "      <td>TRSF E-BANKING DB</td>\n",
       "      <td>TRSF E-BANKING DB 0208/FTSCY/WS95031 100000.00...</td>\n",
       "      <td>Aug-2023</td>\n",
       "      <td>DEPOSIT SELLA NUR FAUZIAH SALIM</td>\n",
       "      <td>5</td>\n",
       "      <td>DEBIT</td>\n",
       "    </tr>\n",
       "  </tbody>\n",
       "</table>\n",
       "</div>"
      ],
      "text/plain": [
       "  Account Number    Amount      Balance Bank Name  \\\n",
       "0     6280723124       0.0  10555228.07       BCA   \n",
       "1     6280723124  500000.0  11055228.07       BCA   \n",
       "2     6280723124 -800000.0  10255228.07       BCA   \n",
       "3     6280723124   -6500.0  10248728.07       BCA   \n",
       "4     6280723124 -100000.0  10148728.07       BCA   \n",
       "\n",
       "                                      Category        Date  \\\n",
       "0                                   SALDO AWAL  2023-08-01   \n",
       "1          TRANSFER FROM NYICIL CASBON BINTORO  2023-08-01   \n",
       "2              TRANSFER TO YUYUN EKA WIYANTI M  2023-08-01   \n",
       "3              TRANSFER TO YUYUN EKA WIYANTI M  2023-08-01   \n",
       "4  TRANSFER TO DEPOSIT SELLA NUR FAUZIAH SALIM  2023-08-02   \n",
       "\n",
       "                          Descriptor  \\\n",
       "0                         SALDO AWAL   \n",
       "1  TRSF E-BANKING CR TANGGAL :31/07    \n",
       "2                      SWITCHING DB    \n",
       "3                      SWITCHING DB    \n",
       "4                 TRSF E-BANKING DB    \n",
       "\n",
       "                                              Detail     Month  \\\n",
       "0                                         SALDO AWAL  Aug-2023   \n",
       "1  TRSF E-BANKING CR TANGGAL :31/07 3107/FTSCY/WS...  Aug-2023   \n",
       "2  SWITCHING DB TRANSFER KE 002 YUYUN EKA WIYANTI...  Aug-2023   \n",
       "3  SWITCHING DB TRANSFER KE 002 YUYUN EKA WIYANTI...  Aug-2023   \n",
       "4  TRSF E-BANKING DB 0208/FTSCY/WS95031 100000.00...  Aug-2023   \n",
       "\n",
       "                              Name Serial Number    Type  \n",
       "0                       SALDO AWAL             1  CREDIT  \n",
       "1            NYICIL CASBON BINTORO             2  CREDIT  \n",
       "2              YUYUN EKA WIYANTI M             3   DEBIT  \n",
       "3              YUYUN EKA WIYANTI M             4   DEBIT  \n",
       "4  DEPOSIT SELLA NUR FAUZIAH SALIM             5   DEBIT  "
      ]
     },
     "execution_count": 10,
     "metadata": {},
     "output_type": "execute_result"
    }
   ],
   "source": [
    "first_bank_df.head()"
   ]
  },
  {
   "cell_type": "code",
   "execution_count": 11,
   "metadata": {},
   "outputs": [
    {
     "name": "stdout",
     "output_type": "stream",
     "text": [
      "<class 'pandas.core.frame.DataFrame'>\n",
      "RangeIndex: 416 entries, 0 to 415\n",
      "Data columns (total 12 columns):\n",
      " #   Column          Non-Null Count  Dtype  \n",
      "---  ------          --------------  -----  \n",
      " 0   Account Number  416 non-null    object \n",
      " 1   Amount          416 non-null    float64\n",
      " 2   Balance         416 non-null    float64\n",
      " 3   Bank Name       416 non-null    object \n",
      " 4   Category        416 non-null    object \n",
      " 5   Date            416 non-null    object \n",
      " 6   Descriptor      416 non-null    object \n",
      " 7   Detail          416 non-null    object \n",
      " 8   Month           416 non-null    object \n",
      " 9   Name            416 non-null    object \n",
      " 10  Serial Number   416 non-null    object \n",
      " 11  Type            416 non-null    object \n",
      "dtypes: float64(2), object(10)\n",
      "memory usage: 39.1+ KB\n"
     ]
    }
   ],
   "source": [
    "first_bank_df.info()"
   ]
  },
  {
   "cell_type": "code",
   "execution_count": 12,
   "metadata": {},
   "outputs": [],
   "source": [
    "f = open(\"raw_29f9375727654c7cab56213b39702ba7_multi_bank_ocr_insights_data.txt\")\n",
    "second_data = ast.literal_eval(f.read())"
   ]
  },
  {
   "cell_type": "code",
   "execution_count": 13,
   "metadata": {},
   "outputs": [
    {
     "data": {
      "text/plain": [
       "dict_keys(['id', 'platform', 'multi_bank_ocr'])"
      ]
     },
     "execution_count": 13,
     "metadata": {},
     "output_type": "execute_result"
    }
   ],
   "source": [
    "second_data.keys()"
   ]
  },
  {
   "cell_type": "code",
   "execution_count": 14,
   "metadata": {},
   "outputs": [
    {
     "data": {
      "text/plain": [
       "[{'Account Holder name': 'JEKAEL INVESCO',\n",
       "  'Account Number': '1660003120599',\n",
       "  'Address': '',\n",
       "  'Bank Name': 'MANDIRI',\n",
       "  'Period': 'July 2023',\n",
       "  'Type': ''}]"
      ]
     },
     "execution_count": 14,
     "metadata": {},
     "output_type": "execute_result"
    }
   ],
   "source": [
    "second_data[\"multi_bank_ocr\"][\"Account\"]"
   ]
  },
  {
   "cell_type": "code",
   "execution_count": 15,
   "metadata": {},
   "outputs": [
    {
     "data": {
      "text/html": [
       "<div>\n",
       "<style scoped>\n",
       "    .dataframe tbody tr th:only-of-type {\n",
       "        vertical-align: middle;\n",
       "    }\n",
       "\n",
       "    .dataframe tbody tr th {\n",
       "        vertical-align: top;\n",
       "    }\n",
       "\n",
       "    .dataframe thead th {\n",
       "        text-align: right;\n",
       "    }\n",
       "</style>\n",
       "<table border=\"1\" class=\"dataframe\">\n",
       "  <thead>\n",
       "    <tr style=\"text-align: right;\">\n",
       "      <th></th>\n",
       "      <th>Account Number</th>\n",
       "      <th>Amount</th>\n",
       "      <th>Balance</th>\n",
       "      <th>Bank Name</th>\n",
       "      <th>Category</th>\n",
       "      <th>Date</th>\n",
       "      <th>Descriptor</th>\n",
       "      <th>Detail</th>\n",
       "      <th>Month</th>\n",
       "      <th>Name</th>\n",
       "      <th>Serial Number</th>\n",
       "      <th>Type</th>\n",
       "    </tr>\n",
       "  </thead>\n",
       "  <tbody>\n",
       "    <tr>\n",
       "      <th>0</th>\n",
       "      <td>1660003120599</td>\n",
       "      <td>16285241.0</td>\n",
       "      <td>2.507307e+07</td>\n",
       "      <td>MANDIRI</td>\n",
       "      <td>TRANSFER FROM CBC NO LISTRIK IPL ME KREDIT SAP</td>\n",
       "      <td>2023-07-03</td>\n",
       "      <td>CBC-NO.448/INV/JI/VI/2023 LISTRIK,IPL ME Kredi...</td>\n",
       "      <td>-</td>\n",
       "      <td>Jul-2023</td>\n",
       "      <td>CBC NO LISTRIK IPL ME KREDIT SAP</td>\n",
       "      <td>1</td>\n",
       "      <td>CREDIT</td>\n",
       "    </tr>\n",
       "    <tr>\n",
       "      <th>1</th>\n",
       "      <td>1660003120599</td>\n",
       "      <td>541125.0</td>\n",
       "      <td>2.561420e+07</td>\n",
       "      <td>MANDIRI</td>\n",
       "      <td>TRANSFER FROM PEMB AQUA NO KREDIT SAP</td>\n",
       "      <td>2023-07-04</td>\n",
       "      <td>15637N-PEMB AQUA NO. 420/INV/JI/VI/2023 Kredit...</td>\n",
       "      <td>-</td>\n",
       "      <td>Jul-2023</td>\n",
       "      <td>PEMB AQUA NO KREDIT SAP</td>\n",
       "      <td>2</td>\n",
       "      <td>CREDIT</td>\n",
       "    </tr>\n",
       "    <tr>\n",
       "      <th>2</th>\n",
       "      <td>1660003120599</td>\n",
       "      <td>9320000.0</td>\n",
       "      <td>3.493420e+07</td>\n",
       "      <td>MANDIRI</td>\n",
       "      <td>TRANSFER FROM REIMBURSMENT ACCU GEN KREDIT SAP</td>\n",
       "      <td>2023-07-04</td>\n",
       "      <td>458/INV/JI/VI/2023 REIMBURSMENT ACCU GEN Kredi...</td>\n",
       "      <td>-</td>\n",
       "      <td>Jul-2023</td>\n",
       "      <td>REIMBURSMENT ACCU GEN KREDIT SAP</td>\n",
       "      <td>3</td>\n",
       "      <td>CREDIT</td>\n",
       "    </tr>\n",
       "    <tr>\n",
       "      <th>3</th>\n",
       "      <td>1660003120599</td>\n",
       "      <td>58124595.0</td>\n",
       "      <td>9.305879e+07</td>\n",
       "      <td>MANDIRI</td>\n",
       "      <td>TRANSFER FROM JASA PENGELOLAAN GEDU KREDIT SAP</td>\n",
       "      <td>2023-07-04</td>\n",
       "      <td>451/INV/JI/VI/2023 JASA PENGELOLAAN GEDU Kredi...</td>\n",
       "      <td>-</td>\n",
       "      <td>Jul-2023</td>\n",
       "      <td>JASA PENGELOLAAN GEDU KREDIT SAP</td>\n",
       "      <td>4</td>\n",
       "      <td>CREDIT</td>\n",
       "    </tr>\n",
       "    <tr>\n",
       "      <th>4</th>\n",
       "      <td>1660003120599</td>\n",
       "      <td>58124595.0</td>\n",
       "      <td>1.511834e+08</td>\n",
       "      <td>MANDIRI</td>\n",
       "      <td>TRANSFER FROM JASA OUTSOURCING KREDIT SAP</td>\n",
       "      <td>2023-07-04</td>\n",
       "      <td>371/INV/JI/V/2023 JASA OUTSOURCING Kredit SAP ...</td>\n",
       "      <td>- -</td>\n",
       "      <td>Jul-2023</td>\n",
       "      <td>JASA OUTSOURCING KREDIT SAP</td>\n",
       "      <td>5</td>\n",
       "      <td>CREDIT</td>\n",
       "    </tr>\n",
       "  </tbody>\n",
       "</table>\n",
       "</div>"
      ],
      "text/plain": [
       "  Account Number      Amount       Balance Bank Name  \\\n",
       "0  1660003120599  16285241.0  2.507307e+07   MANDIRI   \n",
       "1  1660003120599    541125.0  2.561420e+07   MANDIRI   \n",
       "2  1660003120599   9320000.0  3.493420e+07   MANDIRI   \n",
       "3  1660003120599  58124595.0  9.305879e+07   MANDIRI   \n",
       "4  1660003120599  58124595.0  1.511834e+08   MANDIRI   \n",
       "\n",
       "                                         Category        Date  \\\n",
       "0  TRANSFER FROM CBC NO LISTRIK IPL ME KREDIT SAP  2023-07-03   \n",
       "1           TRANSFER FROM PEMB AQUA NO KREDIT SAP  2023-07-04   \n",
       "2  TRANSFER FROM REIMBURSMENT ACCU GEN KREDIT SAP  2023-07-04   \n",
       "3  TRANSFER FROM JASA PENGELOLAAN GEDU KREDIT SAP  2023-07-04   \n",
       "4       TRANSFER FROM JASA OUTSOURCING KREDIT SAP  2023-07-04   \n",
       "\n",
       "                                          Descriptor Detail     Month  \\\n",
       "0  CBC-NO.448/INV/JI/VI/2023 LISTRIK,IPL ME Kredi...      -  Jul-2023   \n",
       "1  15637N-PEMB AQUA NO. 420/INV/JI/VI/2023 Kredit...      -  Jul-2023   \n",
       "2  458/INV/JI/VI/2023 REIMBURSMENT ACCU GEN Kredi...      -  Jul-2023   \n",
       "3  451/INV/JI/VI/2023 JASA PENGELOLAAN GEDU Kredi...      -  Jul-2023   \n",
       "4  371/INV/JI/V/2023 JASA OUTSOURCING Kredit SAP ...    - -  Jul-2023   \n",
       "\n",
       "                               Name Serial Number    Type  \n",
       "0  CBC NO LISTRIK IPL ME KREDIT SAP             1  CREDIT  \n",
       "1           PEMB AQUA NO KREDIT SAP             2  CREDIT  \n",
       "2  REIMBURSMENT ACCU GEN KREDIT SAP             3  CREDIT  \n",
       "3  JASA PENGELOLAAN GEDU KREDIT SAP             4  CREDIT  \n",
       "4       JASA OUTSOURCING KREDIT SAP             5  CREDIT  "
      ]
     },
     "execution_count": 15,
     "metadata": {},
     "output_type": "execute_result"
    }
   ],
   "source": [
    "second_bank_df = pd.DataFrame(second_data[\"multi_bank_ocr\"][\"Transactions\"])\n",
    "second_bank_df.head()"
   ]
  },
  {
   "cell_type": "code",
   "execution_count": 16,
   "metadata": {},
   "outputs": [],
   "source": [
    "f = open(\"raw_5227c2f552b54c1aa174f3cf5a1428ca_ocbc_id_insights_data.txt\")\n",
    "third_data = ast.literal_eval(f.read())"
   ]
  },
  {
   "cell_type": "code",
   "execution_count": 17,
   "metadata": {},
   "outputs": [
    {
     "data": {
      "text/html": [
       "<div>\n",
       "<style scoped>\n",
       "    .dataframe tbody tr th:only-of-type {\n",
       "        vertical-align: middle;\n",
       "    }\n",
       "\n",
       "    .dataframe tbody tr th {\n",
       "        vertical-align: top;\n",
       "    }\n",
       "\n",
       "    .dataframe thead th {\n",
       "        text-align: right;\n",
       "    }\n",
       "</style>\n",
       "<table border=\"1\" class=\"dataframe\">\n",
       "  <thead>\n",
       "    <tr style=\"text-align: right;\">\n",
       "      <th></th>\n",
       "      <th>Account Number</th>\n",
       "      <th>Amount</th>\n",
       "      <th>Balance</th>\n",
       "      <th>Bank Name</th>\n",
       "      <th>Category</th>\n",
       "      <th>Date</th>\n",
       "      <th>Descriptor</th>\n",
       "      <th>Detail</th>\n",
       "      <th>Month</th>\n",
       "      <th>Name</th>\n",
       "      <th>Serial Number</th>\n",
       "      <th>Type</th>\n",
       "    </tr>\n",
       "  </thead>\n",
       "  <tbody>\n",
       "    <tr>\n",
       "      <th>0</th>\n",
       "      <td>280800001560</td>\n",
       "      <td>2.500000e+08</td>\n",
       "      <td>-4.099063e+09</td>\n",
       "      <td>OCBC_ID</td>\n",
       "      <td>TRANSFER FROM TRANSFER MASUK BI FAST WAHYONOLA...</td>\n",
       "      <td>2023-01-03</td>\n",
       "      <td>079 Transfer Masuk BI Fast WAHYONO/Lainnya</td>\n",
       "      <td></td>\n",
       "      <td>Jan-2023</td>\n",
       "      <td>TRANSFER MASUK BI FAST WAHYONOLAINNYA</td>\n",
       "      <td>1</td>\n",
       "      <td>CREDIT</td>\n",
       "    </tr>\n",
       "    <tr>\n",
       "      <th>1</th>\n",
       "      <td>280800001560</td>\n",
       "      <td>5.000000e+08</td>\n",
       "      <td>-3.599063e+09</td>\n",
       "      <td>OCBC_ID</td>\n",
       "      <td>TRANSFER FROM TRANSFER MASUK INWARD RTGS CR WA...</td>\n",
       "      <td>2023-01-03</td>\n",
       "      <td>014 Transfer Masuk (INWARD RTGS CR) WAHYONO/</td>\n",
       "      <td></td>\n",
       "      <td>Jan-2023</td>\n",
       "      <td>TRANSFER MASUK INWARD RTGS CR WAHYONO</td>\n",
       "      <td>2</td>\n",
       "      <td>CREDIT</td>\n",
       "    </tr>\n",
       "    <tr>\n",
       "      <th>2</th>\n",
       "      <td>280800001560</td>\n",
       "      <td>2.000000e+08</td>\n",
       "      <td>-3.399063e+09</td>\n",
       "      <td>OCBC_ID</td>\n",
       "      <td>TRANSFER FROM TRANSFER MASUK TRF CNSKN MSK WAH...</td>\n",
       "      <td>2023-01-03</td>\n",
       "      <td>014 Transfer Masuk (TRF CN-SKN MSK) WAHYONO/</td>\n",
       "      <td></td>\n",
       "      <td>Jan-2023</td>\n",
       "      <td>TRANSFER MASUK TRF CNSKN MSK WAHYONO</td>\n",
       "      <td>3</td>\n",
       "      <td>CREDIT</td>\n",
       "    </tr>\n",
       "    <tr>\n",
       "      <th>3</th>\n",
       "      <td>280800001560</td>\n",
       "      <td>1.000000e+09</td>\n",
       "      <td>-2.399063e+09</td>\n",
       "      <td>OCBC_ID</td>\n",
       "      <td>TRANSFER FROM MASUK INWARD CR WIJAYA ANUGRAHRT...</td>\n",
       "      <td>2023-01-03</td>\n",
       "      <td>014 Transfer Masuk (INWARD RTGS CR) WIJAYA KAR...</td>\n",
       "      <td></td>\n",
       "      <td>Jan-2023</td>\n",
       "      <td>MASUK INWARD CR WIJAYA ANUGRAHRTGS FEE KARYA</td>\n",
       "      <td>4</td>\n",
       "      <td>CREDIT</td>\n",
       "    </tr>\n",
       "    <tr>\n",
       "      <th>4</th>\n",
       "      <td>280800001560</td>\n",
       "      <td>-1.100000e+09</td>\n",
       "      <td>-3.499063e+09</td>\n",
       "      <td>OCBC_ID</td>\n",
       "      <td>TRANSFER TO PEMINDAHBUKUAN PEMBAYARAN POKOK</td>\n",
       "      <td>2023-01-04</td>\n",
       "      <td>004 Pemindahbukuan PEMBAYARAN POKOK 280830030290</td>\n",
       "      <td></td>\n",
       "      <td>Jan-2023</td>\n",
       "      <td>PEMINDAHBUKUAN PEMBAYARAN POKOK</td>\n",
       "      <td>5</td>\n",
       "      <td>DEBIT</td>\n",
       "    </tr>\n",
       "  </tbody>\n",
       "</table>\n",
       "</div>"
      ],
      "text/plain": [
       "  Account Number        Amount       Balance Bank Name  \\\n",
       "0   280800001560  2.500000e+08 -4.099063e+09   OCBC_ID   \n",
       "1   280800001560  5.000000e+08 -3.599063e+09   OCBC_ID   \n",
       "2   280800001560  2.000000e+08 -3.399063e+09   OCBC_ID   \n",
       "3   280800001560  1.000000e+09 -2.399063e+09   OCBC_ID   \n",
       "4   280800001560 -1.100000e+09 -3.499063e+09   OCBC_ID   \n",
       "\n",
       "                                            Category        Date  \\\n",
       "0  TRANSFER FROM TRANSFER MASUK BI FAST WAHYONOLA...  2023-01-03   \n",
       "1  TRANSFER FROM TRANSFER MASUK INWARD RTGS CR WA...  2023-01-03   \n",
       "2  TRANSFER FROM TRANSFER MASUK TRF CNSKN MSK WAH...  2023-01-03   \n",
       "3  TRANSFER FROM MASUK INWARD CR WIJAYA ANUGRAHRT...  2023-01-03   \n",
       "4        TRANSFER TO PEMINDAHBUKUAN PEMBAYARAN POKOK  2023-01-04   \n",
       "\n",
       "                                          Descriptor Detail     Month  \\\n",
       "0         079 Transfer Masuk BI Fast WAHYONO/Lainnya         Jan-2023   \n",
       "1       014 Transfer Masuk (INWARD RTGS CR) WAHYONO/         Jan-2023   \n",
       "2       014 Transfer Masuk (TRF CN-SKN MSK) WAHYONO/         Jan-2023   \n",
       "3  014 Transfer Masuk (INWARD RTGS CR) WIJAYA KAR...         Jan-2023   \n",
       "4   004 Pemindahbukuan PEMBAYARAN POKOK 280830030290         Jan-2023   \n",
       "\n",
       "                                           Name Serial Number    Type  \n",
       "0         TRANSFER MASUK BI FAST WAHYONOLAINNYA             1  CREDIT  \n",
       "1         TRANSFER MASUK INWARD RTGS CR WAHYONO             2  CREDIT  \n",
       "2          TRANSFER MASUK TRF CNSKN MSK WAHYONO             3  CREDIT  \n",
       "3  MASUK INWARD CR WIJAYA ANUGRAHRTGS FEE KARYA             4  CREDIT  \n",
       "4               PEMINDAHBUKUAN PEMBAYARAN POKOK             5   DEBIT  "
      ]
     },
     "execution_count": 17,
     "metadata": {},
     "output_type": "execute_result"
    }
   ],
   "source": [
    "third_bank_df = pd.DataFrame(third_data[\"ocbc_id\"][\"Transactions\"])\n",
    "third_bank_df.head()"
   ]
  },
  {
   "cell_type": "markdown",
   "metadata": {},
   "source": [
    "# Objective: Building a simple credit risk assessment model based on bank statement data\n",
    "\n",
    "The approach that are made in the following notebook is a classification algorithm based for the credit risk assessment. In the classification algorithm, there are two key informations needed, the features (independent variable) and the label (dependent variable)\n",
    "\n",
    "The current notebook approach is to create the classification algorithm on the bank statement transaction level such that we could identify the bad / risky transactions made (similar like a fraud transaction detection)"
   ]
  },
  {
   "cell_type": "markdown",
   "metadata": {},
   "source": [
    "**Data Available**\n",
    "1. Bank Statement Data\n",
    "\n",
    "**Unavailable / Ungiven Data**\n",
    "1. Label (Bad / Good)"
   ]
  },
  {
   "cell_type": "markdown",
   "metadata": {},
   "source": [
    "# Credit Risk Assessment Approach"
   ]
  },
  {
   "cell_type": "markdown",
   "metadata": {},
   "source": [
    "#### Transaction Data Inspection"
   ]
  },
  {
   "cell_type": "code",
   "execution_count": 18,
   "metadata": {},
   "outputs": [
    {
     "data": {
      "text/html": [
       "<div>\n",
       "<style scoped>\n",
       "    .dataframe tbody tr th:only-of-type {\n",
       "        vertical-align: middle;\n",
       "    }\n",
       "\n",
       "    .dataframe tbody tr th {\n",
       "        vertical-align: top;\n",
       "    }\n",
       "\n",
       "    .dataframe thead th {\n",
       "        text-align: right;\n",
       "    }\n",
       "</style>\n",
       "<table border=\"1\" class=\"dataframe\">\n",
       "  <thead>\n",
       "    <tr style=\"text-align: right;\">\n",
       "      <th></th>\n",
       "      <th>Account Number</th>\n",
       "      <th>Amount</th>\n",
       "      <th>Balance</th>\n",
       "      <th>Bank Name</th>\n",
       "      <th>Category</th>\n",
       "      <th>Date</th>\n",
       "      <th>Descriptor</th>\n",
       "      <th>Detail</th>\n",
       "      <th>Month</th>\n",
       "      <th>Name</th>\n",
       "      <th>Serial Number</th>\n",
       "      <th>Type</th>\n",
       "    </tr>\n",
       "  </thead>\n",
       "  <tbody>\n",
       "    <tr>\n",
       "      <th>0</th>\n",
       "      <td>6280723124</td>\n",
       "      <td>0.0</td>\n",
       "      <td>10555228.07</td>\n",
       "      <td>BCA</td>\n",
       "      <td>SALDO AWAL</td>\n",
       "      <td>2023-08-01</td>\n",
       "      <td>SALDO AWAL</td>\n",
       "      <td>SALDO AWAL</td>\n",
       "      <td>Aug-2023</td>\n",
       "      <td>SALDO AWAL</td>\n",
       "      <td>1</td>\n",
       "      <td>CREDIT</td>\n",
       "    </tr>\n",
       "    <tr>\n",
       "      <th>1</th>\n",
       "      <td>6280723124</td>\n",
       "      <td>500000.0</td>\n",
       "      <td>11055228.07</td>\n",
       "      <td>BCA</td>\n",
       "      <td>TRANSFER FROM NYICIL CASBON BINTORO</td>\n",
       "      <td>2023-08-01</td>\n",
       "      <td>TRSF E-BANKING CR TANGGAL :31/07</td>\n",
       "      <td>TRSF E-BANKING CR TANGGAL :31/07 3107/FTSCY/WS...</td>\n",
       "      <td>Aug-2023</td>\n",
       "      <td>NYICIL CASBON BINTORO</td>\n",
       "      <td>2</td>\n",
       "      <td>CREDIT</td>\n",
       "    </tr>\n",
       "    <tr>\n",
       "      <th>2</th>\n",
       "      <td>6280723124</td>\n",
       "      <td>-800000.0</td>\n",
       "      <td>10255228.07</td>\n",
       "      <td>BCA</td>\n",
       "      <td>TRANSFER TO YUYUN EKA WIYANTI M</td>\n",
       "      <td>2023-08-01</td>\n",
       "      <td>SWITCHING DB</td>\n",
       "      <td>SWITCHING DB TRANSFER KE 002 YUYUN EKA WIYANTI...</td>\n",
       "      <td>Aug-2023</td>\n",
       "      <td>YUYUN EKA WIYANTI M</td>\n",
       "      <td>3</td>\n",
       "      <td>DEBIT</td>\n",
       "    </tr>\n",
       "    <tr>\n",
       "      <th>3</th>\n",
       "      <td>6280723124</td>\n",
       "      <td>-6500.0</td>\n",
       "      <td>10248728.07</td>\n",
       "      <td>BCA</td>\n",
       "      <td>TRANSFER TO YUYUN EKA WIYANTI M</td>\n",
       "      <td>2023-08-01</td>\n",
       "      <td>SWITCHING DB</td>\n",
       "      <td>SWITCHING DB TRANSFER KE 002 YUYUN EKA WIYANTI...</td>\n",
       "      <td>Aug-2023</td>\n",
       "      <td>YUYUN EKA WIYANTI M</td>\n",
       "      <td>4</td>\n",
       "      <td>DEBIT</td>\n",
       "    </tr>\n",
       "    <tr>\n",
       "      <th>4</th>\n",
       "      <td>6280723124</td>\n",
       "      <td>-100000.0</td>\n",
       "      <td>10148728.07</td>\n",
       "      <td>BCA</td>\n",
       "      <td>TRANSFER TO DEPOSIT SELLA NUR FAUZIAH SALIM</td>\n",
       "      <td>2023-08-02</td>\n",
       "      <td>TRSF E-BANKING DB</td>\n",
       "      <td>TRSF E-BANKING DB 0208/FTSCY/WS95031 100000.00...</td>\n",
       "      <td>Aug-2023</td>\n",
       "      <td>DEPOSIT SELLA NUR FAUZIAH SALIM</td>\n",
       "      <td>5</td>\n",
       "      <td>DEBIT</td>\n",
       "    </tr>\n",
       "  </tbody>\n",
       "</table>\n",
       "</div>"
      ],
      "text/plain": [
       "  Account Number    Amount      Balance Bank Name  \\\n",
       "0     6280723124       0.0  10555228.07       BCA   \n",
       "1     6280723124  500000.0  11055228.07       BCA   \n",
       "2     6280723124 -800000.0  10255228.07       BCA   \n",
       "3     6280723124   -6500.0  10248728.07       BCA   \n",
       "4     6280723124 -100000.0  10148728.07       BCA   \n",
       "\n",
       "                                      Category        Date  \\\n",
       "0                                   SALDO AWAL  2023-08-01   \n",
       "1          TRANSFER FROM NYICIL CASBON BINTORO  2023-08-01   \n",
       "2              TRANSFER TO YUYUN EKA WIYANTI M  2023-08-01   \n",
       "3              TRANSFER TO YUYUN EKA WIYANTI M  2023-08-01   \n",
       "4  TRANSFER TO DEPOSIT SELLA NUR FAUZIAH SALIM  2023-08-02   \n",
       "\n",
       "                          Descriptor  \\\n",
       "0                         SALDO AWAL   \n",
       "1  TRSF E-BANKING CR TANGGAL :31/07    \n",
       "2                      SWITCHING DB    \n",
       "3                      SWITCHING DB    \n",
       "4                 TRSF E-BANKING DB    \n",
       "\n",
       "                                              Detail     Month  \\\n",
       "0                                         SALDO AWAL  Aug-2023   \n",
       "1  TRSF E-BANKING CR TANGGAL :31/07 3107/FTSCY/WS...  Aug-2023   \n",
       "2  SWITCHING DB TRANSFER KE 002 YUYUN EKA WIYANTI...  Aug-2023   \n",
       "3  SWITCHING DB TRANSFER KE 002 YUYUN EKA WIYANTI...  Aug-2023   \n",
       "4  TRSF E-BANKING DB 0208/FTSCY/WS95031 100000.00...  Aug-2023   \n",
       "\n",
       "                              Name Serial Number    Type  \n",
       "0                       SALDO AWAL             1  CREDIT  \n",
       "1            NYICIL CASBON BINTORO             2  CREDIT  \n",
       "2              YUYUN EKA WIYANTI M             3   DEBIT  \n",
       "3              YUYUN EKA WIYANTI M             4   DEBIT  \n",
       "4  DEPOSIT SELLA NUR FAUZIAH SALIM             5   DEBIT  "
      ]
     },
     "execution_count": 18,
     "metadata": {},
     "output_type": "execute_result"
    }
   ],
   "source": [
    "first_bank_df.head()"
   ]
  },
  {
   "cell_type": "code",
   "execution_count": 19,
   "metadata": {},
   "outputs": [
    {
     "data": {
      "text/html": [
       "<div>\n",
       "<style scoped>\n",
       "    .dataframe tbody tr th:only-of-type {\n",
       "        vertical-align: middle;\n",
       "    }\n",
       "\n",
       "    .dataframe tbody tr th {\n",
       "        vertical-align: top;\n",
       "    }\n",
       "\n",
       "    .dataframe thead th {\n",
       "        text-align: right;\n",
       "    }\n",
       "</style>\n",
       "<table border=\"1\" class=\"dataframe\">\n",
       "  <thead>\n",
       "    <tr style=\"text-align: right;\">\n",
       "      <th></th>\n",
       "      <th>Amount</th>\n",
       "      <th>Balance</th>\n",
       "    </tr>\n",
       "  </thead>\n",
       "  <tbody>\n",
       "    <tr>\n",
       "      <th>count</th>\n",
       "      <td>4.160000e+02</td>\n",
       "      <td>4.160000e+02</td>\n",
       "    </tr>\n",
       "    <tr>\n",
       "      <th>mean</th>\n",
       "      <td>1.525663e+05</td>\n",
       "      <td>6.738730e+06</td>\n",
       "    </tr>\n",
       "    <tr>\n",
       "      <th>std</th>\n",
       "      <td>7.437632e+06</td>\n",
       "      <td>1.097985e+07</td>\n",
       "    </tr>\n",
       "    <tr>\n",
       "      <th>min</th>\n",
       "      <td>-7.700000e+07</td>\n",
       "      <td>5.382807e+04</td>\n",
       "    </tr>\n",
       "    <tr>\n",
       "      <th>25%</th>\n",
       "      <td>-5.000000e+05</td>\n",
       "      <td>1.122321e+06</td>\n",
       "    </tr>\n",
       "    <tr>\n",
       "      <th>50%</th>\n",
       "      <td>-1.000000e+05</td>\n",
       "      <td>3.166378e+06</td>\n",
       "    </tr>\n",
       "    <tr>\n",
       "      <th>75%</th>\n",
       "      <td>2.000000e+05</td>\n",
       "      <td>8.949946e+06</td>\n",
       "    </tr>\n",
       "    <tr>\n",
       "      <th>max</th>\n",
       "      <td>7.680778e+07</td>\n",
       "      <td>8.131930e+07</td>\n",
       "    </tr>\n",
       "  </tbody>\n",
       "</table>\n",
       "</div>"
      ],
      "text/plain": [
       "             Amount       Balance\n",
       "count  4.160000e+02  4.160000e+02\n",
       "mean   1.525663e+05  6.738730e+06\n",
       "std    7.437632e+06  1.097985e+07\n",
       "min   -7.700000e+07  5.382807e+04\n",
       "25%   -5.000000e+05  1.122321e+06\n",
       "50%   -1.000000e+05  3.166378e+06\n",
       "75%    2.000000e+05  8.949946e+06\n",
       "max    7.680778e+07  8.131930e+07"
      ]
     },
     "execution_count": 19,
     "metadata": {},
     "output_type": "execute_result"
    }
   ],
   "source": [
    "first_bank_df.describe()"
   ]
  },
  {
   "cell_type": "code",
   "execution_count": 20,
   "metadata": {},
   "outputs": [
    {
     "data": {
      "image/png": "[encoded data removed]",
      "text/plain": [
       "<Figure size 1200x500 with 1 Axes>"
      ]
     },
     "metadata": {},
     "output_type": "display_data"
    }
   ],
   "source": [
    "plt.figure(figsize=(12,5))\n",
    "plt.title(\"Distribution of Transaction Amount\")\n",
    "ax = sns.distplot(first_bank_df[\"Amount\"])\n",
    "plt.show()"
   ]
  },
  {
   "cell_type": "code",
   "execution_count": 21,
   "metadata": {},
   "outputs": [
    {
     "data": {
      "image/png": "[encoded data removed]",
      "text/plain": [
       "<Figure size 1200x500 with 1 Axes>"
      ]
     },
     "metadata": {},
     "output_type": "display_data"
    }
   ],
   "source": [
    "plt.figure(figsize=(12,5))\n",
    "plt.title(\"Distribution of Balance\")\n",
    "ax = sns.distplot(first_bank_df[\"Balance\"])\n",
    "plt.show()"
   ]
  },
  {
   "cell_type": "markdown",
   "metadata": {},
   "source": [
    "From the above plot, there are few summary:\n",
    "1. The `balance` amount for the first bank statement data, have multiple instances which causing the balance falls below 0 (overdraft payment), which could be an indication of the `risky` transaction"
   ]
  },
  {
   "cell_type": "code",
   "execution_count": 22,
   "metadata": {},
   "outputs": [],
   "source": [
    "master_bank_df = pd.concat([first_bank_df, second_bank_df, third_bank_df])"
   ]
  },
  {
   "cell_type": "code",
   "execution_count": 23,
   "metadata": {
    "scrolled": true
   },
   "outputs": [
    {
     "data": {
      "text/plain": [
       "Index(['Account Number', 'Amount', 'Balance', 'Bank Name', 'Category', 'Date',\n",
       "       'Descriptor', 'Detail', 'Month', 'Name', 'Serial Number', 'Type'],\n",
       "      dtype='object')"
      ]
     },
     "execution_count": 23,
     "metadata": {},
     "output_type": "execute_result"
    }
   ],
   "source": [
    "master_bank_df.columns"
   ]
  },
  {
   "cell_type": "markdown",
   "metadata": {},
   "source": [
    "## Label Data Creation"
   ]
  },
  {
   "cell_type": "markdown",
   "metadata": {},
   "source": [
    "### Transaction Data Cleansing"
   ]
  },
  {
   "cell_type": "code",
   "execution_count": 24,
   "metadata": {},
   "outputs": [],
   "source": [
    "# remove saldo awal transaction"
   ]
  },
  {
   "cell_type": "code",
   "execution_count": 25,
   "metadata": {},
   "outputs": [],
   "source": [
    "master_bank_df = master_bank_df[~master_bank_df['Category'].str.contains('SALDO AWAL')]"
   ]
  },
  {
   "cell_type": "code",
   "execution_count": 26,
   "metadata": {},
   "outputs": [],
   "source": [
    "master_bank_df = master_bank_df[~master_bank_df[\"Name\"].str.contains(\"ATM WITHDRAWAL\")]"
   ]
  },
  {
   "cell_type": "code",
   "execution_count": 27,
   "metadata": {},
   "outputs": [],
   "source": [
    "master_bank_df = master_bank_df[~master_bank_df[\"Detail\"].str.contains(\"BIAYA TXN\")]"
   ]
  },
  {
   "cell_type": "markdown",
   "metadata": {},
   "source": [
    "### 1st Approach - Clustering Approach\n",
    "\n",
    "Bad and good assessment are define based on the transaction level, if there is a transaction which is very different from the transactions made by the sample customers, we could potentially flag this transaction as a \"risky\" transaction"
   ]
  },
  {
   "cell_type": "markdown",
   "metadata": {},
   "source": [
    "##### Cluster Creation - DBScan Algorithm "
   ]
  },
  {
   "cell_type": "code",
   "execution_count": 28,
   "metadata": {},
   "outputs": [
    {
     "data": {
      "text/html": [
       "<div>\n",
       "<style scoped>\n",
       "    .dataframe tbody tr th:only-of-type {\n",
       "        vertical-align: middle;\n",
       "    }\n",
       "\n",
       "    .dataframe tbody tr th {\n",
       "        vertical-align: top;\n",
       "    }\n",
       "\n",
       "    .dataframe thead th {\n",
       "        text-align: right;\n",
       "    }\n",
       "</style>\n",
       "<table border=\"1\" class=\"dataframe\">\n",
       "  <thead>\n",
       "    <tr style=\"text-align: right;\">\n",
       "      <th></th>\n",
       "      <th>Account Number</th>\n",
       "      <th>Amount</th>\n",
       "      <th>Balance</th>\n",
       "      <th>Bank Name</th>\n",
       "      <th>Category</th>\n",
       "      <th>Date</th>\n",
       "      <th>Descriptor</th>\n",
       "      <th>Detail</th>\n",
       "      <th>Month</th>\n",
       "      <th>Name</th>\n",
       "      <th>Serial Number</th>\n",
       "      <th>Type</th>\n",
       "    </tr>\n",
       "  </thead>\n",
       "  <tbody>\n",
       "    <tr>\n",
       "      <th>1</th>\n",
       "      <td>6280723124</td>\n",
       "      <td>500000.0</td>\n",
       "      <td>11055228.07</td>\n",
       "      <td>BCA</td>\n",
       "      <td>TRANSFER FROM NYICIL CASBON BINTORO</td>\n",
       "      <td>2023-08-01</td>\n",
       "      <td>TRSF E-BANKING CR TANGGAL :31/07</td>\n",
       "      <td>TRSF E-BANKING CR TANGGAL :31/07 3107/FTSCY/WS...</td>\n",
       "      <td>Aug-2023</td>\n",
       "      <td>NYICIL CASBON BINTORO</td>\n",
       "      <td>2</td>\n",
       "      <td>CREDIT</td>\n",
       "    </tr>\n",
       "    <tr>\n",
       "      <th>2</th>\n",
       "      <td>6280723124</td>\n",
       "      <td>-800000.0</td>\n",
       "      <td>10255228.07</td>\n",
       "      <td>BCA</td>\n",
       "      <td>TRANSFER TO YUYUN EKA WIYANTI M</td>\n",
       "      <td>2023-08-01</td>\n",
       "      <td>SWITCHING DB</td>\n",
       "      <td>SWITCHING DB TRANSFER KE 002 YUYUN EKA WIYANTI...</td>\n",
       "      <td>Aug-2023</td>\n",
       "      <td>YUYUN EKA WIYANTI M</td>\n",
       "      <td>3</td>\n",
       "      <td>DEBIT</td>\n",
       "    </tr>\n",
       "    <tr>\n",
       "      <th>3</th>\n",
       "      <td>6280723124</td>\n",
       "      <td>-6500.0</td>\n",
       "      <td>10248728.07</td>\n",
       "      <td>BCA</td>\n",
       "      <td>TRANSFER TO YUYUN EKA WIYANTI M</td>\n",
       "      <td>2023-08-01</td>\n",
       "      <td>SWITCHING DB</td>\n",
       "      <td>SWITCHING DB TRANSFER KE 002 YUYUN EKA WIYANTI...</td>\n",
       "      <td>Aug-2023</td>\n",
       "      <td>YUYUN EKA WIYANTI M</td>\n",
       "      <td>4</td>\n",
       "      <td>DEBIT</td>\n",
       "    </tr>\n",
       "    <tr>\n",
       "      <th>4</th>\n",
       "      <td>6280723124</td>\n",
       "      <td>-100000.0</td>\n",
       "      <td>10148728.07</td>\n",
       "      <td>BCA</td>\n",
       "      <td>TRANSFER TO DEPOSIT SELLA NUR FAUZIAH SALIM</td>\n",
       "      <td>2023-08-02</td>\n",
       "      <td>TRSF E-BANKING DB</td>\n",
       "      <td>TRSF E-BANKING DB 0208/FTSCY/WS95031 100000.00...</td>\n",
       "      <td>Aug-2023</td>\n",
       "      <td>DEPOSIT SELLA NUR FAUZIAH SALIM</td>\n",
       "      <td>5</td>\n",
       "      <td>DEBIT</td>\n",
       "    </tr>\n",
       "    <tr>\n",
       "      <th>5</th>\n",
       "      <td>6280723124</td>\n",
       "      <td>600000.0</td>\n",
       "      <td>10748728.07</td>\n",
       "      <td>BCA</td>\n",
       "      <td>TRANSFER FROM BINTORO</td>\n",
       "      <td>2023-08-02</td>\n",
       "      <td>TRSF E-BANKING CR</td>\n",
       "      <td>TRSF E-BANKING CR 0208/FTSCY/WS95031 600000.00...</td>\n",
       "      <td>Aug-2023</td>\n",
       "      <td>BINTORO</td>\n",
       "      <td>6</td>\n",
       "      <td>CREDIT</td>\n",
       "    </tr>\n",
       "  </tbody>\n",
       "</table>\n",
       "</div>"
      ],
      "text/plain": [
       "  Account Number    Amount      Balance Bank Name  \\\n",
       "1     6280723124  500000.0  11055228.07       BCA   \n",
       "2     6280723124 -800000.0  10255228.07       BCA   \n",
       "3     6280723124   -6500.0  10248728.07       BCA   \n",
       "4     6280723124 -100000.0  10148728.07       BCA   \n",
       "5     6280723124  600000.0  10748728.07       BCA   \n",
       "\n",
       "                                      Category        Date  \\\n",
       "1          TRANSFER FROM NYICIL CASBON BINTORO  2023-08-01   \n",
       "2              TRANSFER TO YUYUN EKA WIYANTI M  2023-08-01   \n",
       "3              TRANSFER TO YUYUN EKA WIYANTI M  2023-08-01   \n",
       "4  TRANSFER TO DEPOSIT SELLA NUR FAUZIAH SALIM  2023-08-02   \n",
       "5                        TRANSFER FROM BINTORO  2023-08-02   \n",
       "\n",
       "                          Descriptor  \\\n",
       "1  TRSF E-BANKING CR TANGGAL :31/07    \n",
       "2                      SWITCHING DB    \n",
       "3                      SWITCHING DB    \n",
       "4                 TRSF E-BANKING DB    \n",
       "5                 TRSF E-BANKING CR    \n",
       "\n",
       "                                              Detail     Month  \\\n",
       "1  TRSF E-BANKING CR TANGGAL :31/07 3107/FTSCY/WS...  Aug-2023   \n",
       "2  SWITCHING DB TRANSFER KE 002 YUYUN EKA WIYANTI...  Aug-2023   \n",
       "3  SWITCHING DB TRANSFER KE 002 YUYUN EKA WIYANTI...  Aug-2023   \n",
       "4  TRSF E-BANKING DB 0208/FTSCY/WS95031 100000.00...  Aug-2023   \n",
       "5  TRSF E-BANKING CR 0208/FTSCY/WS95031 600000.00...  Aug-2023   \n",
       "\n",
       "                              Name Serial Number    Type  \n",
       "1            NYICIL CASBON BINTORO             2  CREDIT  \n",
       "2              YUYUN EKA WIYANTI M             3   DEBIT  \n",
       "3              YUYUN EKA WIYANTI M             4   DEBIT  \n",
       "4  DEPOSIT SELLA NUR FAUZIAH SALIM             5   DEBIT  \n",
       "5                          BINTORO             6  CREDIT  "
      ]
     },
     "execution_count": 28,
     "metadata": {},
     "output_type": "execute_result"
    }
   ],
   "source": [
    "master_bank_df.head()"
   ]
  },
  {
   "cell_type": "markdown",
   "metadata": {},
   "source": [
    "Numerical Column Selection for Clustering\n",
    "\n",
    "The `balance` and `amount` is utilized to identify the risky transaction as this is potentially the most important factors and the other columns may not have beneficial information. If I were given more time, I would like to explore utilizing other columns such as the `Category`, `Detail`, and `Name` but it needs to be transformed and encoded in such that it will extract more information which will be beneficial in creating the label `risky` and `non-risky transaction`"
   ]
  },
  {
   "cell_type": "code",
   "execution_count": 29,
   "metadata": {},
   "outputs": [],
   "source": [
    "cluster_data = master_bank_df[[\"Balance\", \"Amount\"]]\n",
    "# the first record needs to be dropped due to the it's just a first snapshot of the data"
   ]
  },
  {
   "cell_type": "code",
   "execution_count": 30,
   "metadata": {},
   "outputs": [],
   "source": [
    "from sklearn.cluster import DBSCAN"
   ]
  },
  {
   "cell_type": "markdown",
   "metadata": {},
   "source": [
    "**Defining Epsilon**"
   ]
  },
  {
   "cell_type": "code",
   "execution_count": 31,
   "metadata": {},
   "outputs": [],
   "source": [
    "x = cluster_data.values"
   ]
  },
  {
   "cell_type": "code",
   "execution_count": 32,
   "metadata": {},
   "outputs": [],
   "source": [
    "from sklearn.neighbors import NearestNeighbors # importing the library\n",
    "neighb = NearestNeighbors(n_neighbors=2) # creating an object of the NearestNeighbors class\n",
    "nbrs=neighb.fit(x) # fitting the data to the object\n",
    "distances,indices=nbrs.kneighbors(x) # finding the nearest neighbours"
   ]
  },
  {
   "cell_type": "code",
   "execution_count": 33,
   "metadata": {
    "scrolled": true
   },
   "outputs": [
    {
     "data": {
      "image/png": "[encoded data removed]",
      "text/plain": [
       "<Figure size 500x300 with 1 Axes>"
      ]
     },
     "metadata": {},
     "output_type": "display_data"
    }
   ],
   "source": [
    "# Sort and plot the distances results\n",
    "distances = np.sort(distances, axis = 0) # sorting the distances\n",
    "distances = distances[:, 1] # taking the second column of the sorted distances\n",
    "plt.rcParams['figure.figsize'] = (5,3) # setting the figure size\n",
    "plt.plot(distances) # plotting the distances\n",
    "plt.show() # showing the plot"
   ]
  },
  {
   "cell_type": "markdown",
   "metadata": {},
   "source": [
    "From the above plot, the x axis shows the distance between each cluster and the y axis shows the epsilon treshold needed to create a cluster with DBScan algorithm. It is shown that epsilon at 0.2e109 is the optimum number as the treshold"
   ]
  },
  {
   "cell_type": "code",
   "execution_count": 34,
   "metadata": {},
   "outputs": [],
   "source": [
    "from sklearn.cluster import DBSCAN\n",
    "# cluster the data into five clusters\n",
    "dbscan = DBSCAN(eps = 0.2e9, min_samples = 10).fit(x) # fitting the model\n",
    "labels = dbscan.labels_ # getting the labels"
   ]
  },
  {
   "cell_type": "code",
   "execution_count": 35,
   "metadata": {},
   "outputs": [
    {
     "data": {
      "text/html": [
       "<div>\n",
       "<style scoped>\n",
       "    .dataframe tbody tr th:only-of-type {\n",
       "        vertical-align: middle;\n",
       "    }\n",
       "\n",
       "    .dataframe tbody tr th {\n",
       "        vertical-align: top;\n",
       "    }\n",
       "\n",
       "    .dataframe thead th {\n",
       "        text-align: right;\n",
       "    }\n",
       "</style>\n",
       "<table border=\"1\" class=\"dataframe\">\n",
       "  <thead>\n",
       "    <tr style=\"text-align: right;\">\n",
       "      <th></th>\n",
       "      <th>Balance</th>\n",
       "      <th>Amount</th>\n",
       "    </tr>\n",
       "  </thead>\n",
       "  <tbody>\n",
       "    <tr>\n",
       "      <th>1</th>\n",
       "      <td>11055228.07</td>\n",
       "      <td>500000.0</td>\n",
       "    </tr>\n",
       "    <tr>\n",
       "      <th>2</th>\n",
       "      <td>10255228.07</td>\n",
       "      <td>-800000.0</td>\n",
       "    </tr>\n",
       "  </tbody>\n",
       "</table>\n",
       "</div>"
      ],
      "text/plain": [
       "       Balance    Amount\n",
       "1  11055228.07  500000.0\n",
       "2  10255228.07 -800000.0"
      ]
     },
     "execution_count": 35,
     "metadata": {},
     "output_type": "execute_result"
    }
   ],
   "source": [
    "cluster_data.head(2)"
   ]
  },
  {
   "cell_type": "code",
   "execution_count": 36,
   "metadata": {
    "scrolled": true
   },
   "outputs": [
    {
     "data": {
      "image/png": "[encoded data removed]",
      "text/plain": [
       "<Figure size 500x300 with 1 Axes>"
      ]
     },
     "metadata": {},
     "output_type": "display_data"
    }
   ],
   "source": [
    "# Plot the clusters\n",
    "plt.scatter(x[:, 0], x[:,1], c = labels, cmap= \"plasma\") # plotting the clusters\n",
    "plt.xlabel(\"Balance\") # X-axis label\n",
    "plt.ylabel(\"Amount\") # Y-axis label\n",
    "plt.show() # showing the plot"
   ]
  },
  {
   "cell_type": "code",
   "execution_count": 37,
   "metadata": {},
   "outputs": [
    {
     "name": "stdout",
     "output_type": "stream",
     "text": [
      "Silhouette Score: 0.7543064179142073\n"
     ]
    }
   ],
   "source": [
    "from sklearn.metrics import silhouette_score\n",
    "\n",
    "# Assuming 'labels' is the cluster labels assigned by DBSCAN\n",
    "silhouette_avg = silhouette_score(x, labels)\n",
    "print(f\"Silhouette Score: {silhouette_avg}\")"
   ]
  },
  {
   "cell_type": "markdown",
   "metadata": {},
   "source": [
    "A score close to 1 suggests that the data points are well-clustered, and each point is closer to the members of its own cluster than to those in other clusters."
   ]
  },
  {
   "cell_type": "code",
   "execution_count": 38,
   "metadata": {},
   "outputs": [
    {
     "data": {
      "text/html": [
       "<div>\n",
       "<style scoped>\n",
       "    .dataframe tbody tr th:only-of-type {\n",
       "        vertical-align: middle;\n",
       "    }\n",
       "\n",
       "    .dataframe tbody tr th {\n",
       "        vertical-align: top;\n",
       "    }\n",
       "\n",
       "    .dataframe thead th {\n",
       "        text-align: right;\n",
       "    }\n",
       "</style>\n",
       "<table border=\"1\" class=\"dataframe\">\n",
       "  <thead>\n",
       "    <tr style=\"text-align: right;\">\n",
       "      <th></th>\n",
       "      <th>0</th>\n",
       "      <th>1</th>\n",
       "    </tr>\n",
       "  </thead>\n",
       "  <tbody>\n",
       "    <tr>\n",
       "      <th>0</th>\n",
       "      <td>1.105523e+07</td>\n",
       "      <td>500000.0</td>\n",
       "    </tr>\n",
       "    <tr>\n",
       "      <th>1</th>\n",
       "      <td>1.025523e+07</td>\n",
       "      <td>-800000.0</td>\n",
       "    </tr>\n",
       "    <tr>\n",
       "      <th>2</th>\n",
       "      <td>1.024873e+07</td>\n",
       "      <td>-6500.0</td>\n",
       "    </tr>\n",
       "    <tr>\n",
       "      <th>3</th>\n",
       "      <td>1.014873e+07</td>\n",
       "      <td>-100000.0</td>\n",
       "    </tr>\n",
       "    <tr>\n",
       "      <th>4</th>\n",
       "      <td>1.074873e+07</td>\n",
       "      <td>600000.0</td>\n",
       "    </tr>\n",
       "    <tr>\n",
       "      <th>...</th>\n",
       "      <td>...</td>\n",
       "      <td>...</td>\n",
       "    </tr>\n",
       "    <tr>\n",
       "      <th>706</th>\n",
       "      <td>-4.788594e+09</td>\n",
       "      <td>-30000.0</td>\n",
       "    </tr>\n",
       "    <tr>\n",
       "      <th>707</th>\n",
       "      <td>-4.731375e+11</td>\n",
       "      <td>-14355776.0</td>\n",
       "    </tr>\n",
       "    <tr>\n",
       "      <th>708</th>\n",
       "      <td>-4.681375e+09</td>\n",
       "      <td>50000000.0</td>\n",
       "    </tr>\n",
       "    <tr>\n",
       "      <th>709</th>\n",
       "      <td>-4.697499e+09</td>\n",
       "      <td>-16108.0</td>\n",
       "    </tr>\n",
       "    <tr>\n",
       "      <th>710</th>\n",
       "      <td>-4.697529e+09</td>\n",
       "      <td>-30000.0</td>\n",
       "    </tr>\n",
       "  </tbody>\n",
       "</table>\n",
       "<p>711 rows × 2 columns</p>\n",
       "</div>"
      ],
      "text/plain": [
       "                0           1\n",
       "0    1.105523e+07    500000.0\n",
       "1    1.025523e+07   -800000.0\n",
       "2    1.024873e+07     -6500.0\n",
       "3    1.014873e+07   -100000.0\n",
       "4    1.074873e+07    600000.0\n",
       "..            ...         ...\n",
       "706 -4.788594e+09    -30000.0\n",
       "707 -4.731375e+11 -14355776.0\n",
       "708 -4.681375e+09  50000000.0\n",
       "709 -4.697499e+09    -16108.0\n",
       "710 -4.697529e+09    -30000.0\n",
       "\n",
       "[711 rows x 2 columns]"
      ]
     },
     "execution_count": 38,
     "metadata": {},
     "output_type": "execute_result"
    }
   ],
   "source": [
    "pd.DataFrame(x)"
   ]
  },
  {
   "cell_type": "code",
   "execution_count": 39,
   "metadata": {},
   "outputs": [
    {
     "data": {
      "text/plain": [
       "array([ 0,  0,  0,  0,  0,  0,  0,  0,  0,  0,  0,  0,  0,  0,  0,  0,  0,\n",
       "        0,  0,  0,  0,  0,  0,  0,  0,  0,  0,  0,  0,  0,  0,  0,  0,  0,\n",
       "        0,  0,  0,  0,  0,  0,  0,  0,  0,  0,  0,  0,  0,  0,  0,  0,  0,\n",
       "        0,  0,  0,  0,  0,  0,  0,  0,  0,  0,  0,  0,  0,  0,  0,  0,  0,\n",
       "        0,  0,  0,  0,  0,  0,  0,  0,  0,  0,  0,  0,  0,  0,  0,  0,  0,\n",
       "        0,  0,  0,  0,  0,  0,  0,  0,  0,  0,  0,  0,  0,  0,  0,  0,  0,\n",
       "        0,  0,  0,  0,  0,  0,  0,  0,  0,  0,  0,  0,  0,  0,  0,  0,  0,\n",
       "        0,  0,  0,  0,  0,  0,  0,  0,  0,  0,  0,  0,  0,  0,  0,  0,  0,\n",
       "        0,  0,  0,  0,  0,  0,  0,  0,  0,  0,  0,  0,  0,  0,  0,  0,  0,\n",
       "        0,  0,  0,  0,  0,  0,  0,  0,  0,  0,  0,  0,  0,  0,  0,  0,  0,\n",
       "        0,  0,  0,  0,  0,  0,  0,  0,  0,  0,  0,  0,  0,  0,  0,  0,  0,\n",
       "        0,  0,  0,  0,  0,  0,  0,  0,  0,  0,  0,  0,  0,  0,  0,  0,  0,\n",
       "        0,  0,  0,  0,  0,  0,  0,  0,  0,  0,  0,  0,  0,  0,  0,  0,  0,\n",
       "        0,  0,  0,  0,  0,  0,  0,  0,  0,  0,  0,  0,  0,  0,  0,  0,  0,\n",
       "        0,  0,  0,  0,  0,  0,  0,  0,  0,  0,  0,  0,  0,  0,  0,  0,  0,\n",
       "        0,  0,  0,  0,  0,  0,  0,  0,  0,  0,  0,  0,  0,  0,  0,  0,  0,\n",
       "        0,  0,  0,  0,  0,  0,  0,  0,  0,  0,  0,  0,  0,  0,  0,  0,  0,\n",
       "        0,  0,  0,  0,  0,  0,  0,  0,  0,  0,  0,  0,  0,  0,  0,  0,  0,\n",
       "        0,  0,  0,  0,  0,  0,  0,  0,  0,  0,  0,  0,  0,  0,  0,  0,  0,\n",
       "        0,  0,  0,  0,  0,  0,  0,  0,  0,  0,  0,  0,  0,  0,  0,  0,  0,\n",
       "        0,  0,  0,  0,  0,  0,  0,  0,  0,  0,  0,  0,  0,  0,  0,  0,  0,\n",
       "        0,  0,  0,  0,  0,  0,  0,  0,  0,  0,  0,  0,  0,  0,  0,  0,  0,\n",
       "        0,  0,  0,  0,  0,  0,  0,  0,  0,  0,  0,  0,  0,  0,  0,  0,  0,\n",
       "        0,  0,  0,  0,  0,  0,  0,  0,  0,  0,  0,  0,  0,  0,  0,  0,  0,\n",
       "        0,  0,  0,  0,  0,  0,  0,  0,  0,  0,  0,  0,  0,  0,  0,  0,  0,\n",
       "        0,  0,  0,  0,  0,  0,  0,  0,  0,  0,  0,  0,  0,  0,  0,  0,  0,\n",
       "        0, -1, -1, -1, -1, -1,  1,  1,  1,  1,  1,  1,  1,  1,  1,  1,  1,\n",
       "        1,  1,  1,  1,  1,  1,  1, -1,  1,  1,  1,  1,  1,  1, -1,  1,  1,\n",
       "        1, -1, -1,  1,  1,  1,  1,  1,  1,  1,  1,  1,  1,  1,  1,  1,  1,\n",
       "        1,  1,  1,  1,  1,  1,  1,  1,  1,  1,  1,  1,  1,  1,  1,  1,  1,\n",
       "        1,  1,  1,  1,  1,  1,  1,  1,  1,  1,  1,  1,  1,  1,  1,  1,  1,\n",
       "        1,  1,  1,  1,  1,  1,  1,  1,  1,  1,  1,  1,  1,  1,  1,  1,  1,\n",
       "        1,  1,  1,  1,  1,  1,  1,  1,  1,  1,  1,  1,  1,  1,  1,  1,  1,\n",
       "        1,  1,  1,  1,  1,  1,  1,  1,  1,  1,  1,  1,  1,  1,  1,  1,  1,\n",
       "        1,  1,  1,  1,  1,  1,  1,  1,  1,  1,  1,  1,  1,  1,  1,  1,  1,\n",
       "        1,  1,  1,  1,  1,  1,  1,  1,  1,  1,  1,  1,  1,  1,  1,  1,  1,\n",
       "        1,  1,  1,  1,  1,  1, -1,  0, -1,  0,  0,  0,  0,  0,  0,  0,  0,\n",
       "        0,  0,  0,  0, -1, -1, -1, -1, -1, -1,  2,  2, -1, -1, -1, -1, -1,\n",
       "       -1, -1, -1,  2,  2, -1, -1, -1, -1, -1,  2,  2,  2,  2,  2,  2,  2,\n",
       "        2,  2,  2,  2,  2, -1,  2,  2,  2, -1, -1, -1, -1, -1, -1,  2,  2,\n",
       "       -1, -1, -1, -1, -1, -1, -1, -1,  2,  2, -1, -1, -1, -1, -1,  2,  2,\n",
       "        2,  2,  2,  2,  2,  2,  2,  2,  2,  2, -1,  2,  2,  2],\n",
       "      dtype=int64)"
      ]
     },
     "execution_count": 39,
     "metadata": {},
     "output_type": "execute_result"
    }
   ],
   "source": [
    "labels"
   ]
  },
  {
   "cell_type": "markdown",
   "metadata": {},
   "source": [
    "However, the number of clusters generated by DBScan is more than two clusters. Based on our goal, we want to identify binary label which is the `risky` transaction and the `non-risky` transaction. I will utilize other approach which only will generate / identify the outlier (`risky`) transactions and  non-outlier (`non-risky`) transaction. The approach is utilizing IsolationForest algorithm"
   ]
  },
  {
   "cell_type": "markdown",
   "metadata": {},
   "source": [
    "The `balance` and `amount` is utilized to identify the risky transaction as this is potentially the most important factors and the other columns may not have beneficial information. If I were given more time, I would like to explore utilizing other columns such as the `Category`, `Detail`, and `Name` but it needs to be transformed and encoded in such that it will extract more information which will be beneficial in creating the label `risky` and `non-risky transaction`"
   ]
  },
  {
   "cell_type": "markdown",
   "metadata": {},
   "source": [
    "There is a potential data leakage issue which we can inspect it by testing our model to be utilized on the unseen sample / other sample given to develop the current task. We could measure how well the model is performing in classifying the `risky` and `non-risky` transaction for the unseen sample data"
   ]
  },
  {
   "cell_type": "markdown",
   "metadata": {},
   "source": [
    "### 2nd Approach - with IsolationForest"
   ]
  },
  {
   "cell_type": "code",
   "execution_count": 40,
   "metadata": {},
   "outputs": [],
   "source": [
    "from sklearn.ensemble import IsolationForest\n",
    "model_IF = IsolationForest(contamination=float(0.1),random_state=42)\n",
    "# contamination is specify the proportion of anomalies (outliers expected in the data\n",
    "# 10% is my assumption of the risky transactions to be identified from the sample data"
   ]
  },
  {
   "cell_type": "code",
   "execution_count": 41,
   "metadata": {},
   "outputs": [],
   "source": [
    "anomaly_inputs = ['Balance', 'Amount']"
   ]
  },
  {
   "cell_type": "code",
   "execution_count": 42,
   "metadata": {},
   "outputs": [
    {
     "data": {
      "text/plain": [
       "(711, 12)"
      ]
     },
     "execution_count": 42,
     "metadata": {},
     "output_type": "execute_result"
    }
   ],
   "source": [
    "master_bank_df.shape"
   ]
  },
  {
   "cell_type": "code",
   "execution_count": 43,
   "metadata": {},
   "outputs": [
    {
     "data": {
      "text/html": [
       "<style>#sk-container-id-1 {color: black;background-color: white;}#sk-container-id-1 pre{padding: 0;}#sk-container-id-1 div.sk-toggleable {background-color: white;}#sk-container-id-1 label.sk-toggleable__label {cursor: pointer;display: block;width: 100%;margin-bottom: 0;padding: 0.3em;box-sizing: border-box;text-align: center;}#sk-container-id-1 label.sk-toggleable__label-arrow:before {content: \"▸\";float: left;margin-right: 0.25em;color: #696969;}#sk-container-id-1 label.sk-toggleable__label-arrow:hover:before {color: black;}#sk-container-id-1 div.sk-estimator:hover label.sk-toggleable__label-arrow:before {color: black;}#sk-container-id-1 div.sk-toggleable__content {max-height: 0;max-width: 0;overflow: hidden;text-align: left;background-color: #f0f8ff;}#sk-container-id-1 div.sk-toggleable__content pre {margin: 0.2em;color: black;border-radius: 0.25em;background-color: #f0f8ff;}#sk-container-id-1 input.sk-toggleable__control:checked~div.sk-toggleable__content {max-height: 200px;max-width: 100%;overflow: auto;}#sk-container-id-1 input.sk-toggleable__control:checked~label.sk-toggleable__label-arrow:before {content: \"▾\";}#sk-container-id-1 div.sk-estimator input.sk-toggleable__control:checked~label.sk-toggleable__label {background-color: #d4ebff;}#sk-container-id-1 div.sk-label input.sk-toggleable__control:checked~label.sk-toggleable__label {background-color: #d4ebff;}#sk-container-id-1 input.sk-hidden--visually {border: 0;clip: rect(1px 1px 1px 1px);clip: rect(1px, 1px, 1px, 1px);height: 1px;margin: -1px;overflow: hidden;padding: 0;position: absolute;width: 1px;}#sk-container-id-1 div.sk-estimator {font-family: monospace;background-color: #f0f8ff;border: 1px dotted black;border-radius: 0.25em;box-sizing: border-box;margin-bottom: 0.5em;}#sk-container-id-1 div.sk-estimator:hover {background-color: #d4ebff;}#sk-container-id-1 div.sk-parallel-item::after {content: \"\";width: 100%;border-bottom: 1px solid gray;flex-grow: 1;}#sk-container-id-1 div.sk-label:hover label.sk-toggleable__label {background-color: #d4ebff;}#sk-container-id-1 div.sk-serial::before {content: \"\";position: absolute;border-left: 1px solid gray;box-sizing: border-box;top: 0;bottom: 0;left: 50%;z-index: 0;}#sk-container-id-1 div.sk-serial {display: flex;flex-direction: column;align-items: center;background-color: white;padding-right: 0.2em;padding-left: 0.2em;position: relative;}#sk-container-id-1 div.sk-item {position: relative;z-index: 1;}#sk-container-id-1 div.sk-parallel {display: flex;align-items: stretch;justify-content: center;background-color: white;position: relative;}#sk-container-id-1 div.sk-item::before, #sk-container-id-1 div.sk-parallel-item::before {content: \"\";position: absolute;border-left: 1px solid gray;box-sizing: border-box;top: 0;bottom: 0;left: 50%;z-index: -1;}#sk-container-id-1 div.sk-parallel-item {display: flex;flex-direction: column;z-index: 1;position: relative;background-color: white;}#sk-container-id-1 div.sk-parallel-item:first-child::after {align-self: flex-end;width: 50%;}#sk-container-id-1 div.sk-parallel-item:last-child::after {align-self: flex-start;width: 50%;}#sk-container-id-1 div.sk-parallel-item:only-child::after {width: 0;}#sk-container-id-1 div.sk-dashed-wrapped {border: 1px dashed gray;margin: 0 0.4em 0.5em 0.4em;box-sizing: border-box;padding-bottom: 0.4em;background-color: white;}#sk-container-id-1 div.sk-label label {font-family: monospace;font-weight: bold;display: inline-block;line-height: 1.2em;}#sk-container-id-1 div.sk-label-container {text-align: center;}#sk-container-id-1 div.sk-container {/* jupyter's `normalize.less` sets `[hidden] { display: none; }` but bootstrap.min.css set `[hidden] { display: none !important; }` so we also need the `!important` here to be able to override the default hidden behavior on the sphinx rendered scikit-learn.org. See: https://github.com/scikit-learn/scikit-learn/issues/21755 */display: inline-block !important;position: relative;}#sk-container-id-1 div.sk-text-repr-fallback {display: none;}</style><div id=\"sk-container-id-1\" class=\"sk-top-container\"><div class=\"sk-text-repr-fallback\"><pre>IsolationForest(contamination=0.1, random_state=42)</pre><b>In a Jupyter environment, please rerun this cell to show the HTML representation or trust the notebook. <br />On GitHub, the HTML representation is unable to render, please try loading this page with nbviewer.org.</b></div><div class=\"sk-container\" hidden><div class=\"sk-item\"><div class=\"sk-estimator sk-toggleable\"><input class=\"sk-toggleable__control sk-hidden--visually\" id=\"sk-estimator-id-1\" type=\"checkbox\" checked><label for=\"sk-estimator-id-1\" class=\"sk-toggleable__label sk-toggleable__label-arrow\">IsolationForest</label><div class=\"sk-toggleable__content\"><pre>IsolationForest(contamination=0.1, random_state=42)</pre></div></div></div></div></div>"
      ],
      "text/plain": [
       "IsolationForest(contamination=0.1, random_state=42)"
      ]
     },
     "execution_count": 43,
     "metadata": {},
     "output_type": "execute_result"
    }
   ],
   "source": [
    "model_IF.fit(master_bank_df[anomaly_inputs])"
   ]
  },
  {
   "cell_type": "code",
   "execution_count": 44,
   "metadata": {},
   "outputs": [],
   "source": [
    "master_bank_df['anomaly_scores'] = model_IF.decision_function(master_bank_df[anomaly_inputs])\n",
    "master_bank_df['anomaly'] = model_IF.predict(master_bank_df[anomaly_inputs])"
   ]
  },
  {
   "cell_type": "code",
   "execution_count": 45,
   "metadata": {},
   "outputs": [
    {
     "data": {
      "text/html": [
       "<div>\n",
       "<style scoped>\n",
       "    .dataframe tbody tr th:only-of-type {\n",
       "        vertical-align: middle;\n",
       "    }\n",
       "\n",
       "    .dataframe tbody tr th {\n",
       "        vertical-align: top;\n",
       "    }\n",
       "\n",
       "    .dataframe thead th {\n",
       "        text-align: right;\n",
       "    }\n",
       "</style>\n",
       "<table border=\"1\" class=\"dataframe\">\n",
       "  <thead>\n",
       "    <tr style=\"text-align: right;\">\n",
       "      <th></th>\n",
       "      <th>Account Number</th>\n",
       "      <th>Amount</th>\n",
       "      <th>Balance</th>\n",
       "      <th>Bank Name</th>\n",
       "      <th>Category</th>\n",
       "      <th>Date</th>\n",
       "      <th>Descriptor</th>\n",
       "      <th>Detail</th>\n",
       "      <th>Month</th>\n",
       "      <th>Name</th>\n",
       "      <th>Serial Number</th>\n",
       "      <th>Type</th>\n",
       "      <th>anomaly_scores</th>\n",
       "      <th>anomaly</th>\n",
       "    </tr>\n",
       "  </thead>\n",
       "  <tbody>\n",
       "    <tr>\n",
       "      <th>1</th>\n",
       "      <td>6280723124</td>\n",
       "      <td>500000.0</td>\n",
       "      <td>11055228.07</td>\n",
       "      <td>BCA</td>\n",
       "      <td>TRANSFER FROM NYICIL CASBON BINTORO</td>\n",
       "      <td>2023-08-01</td>\n",
       "      <td>TRSF E-BANKING CR TANGGAL :31/07</td>\n",
       "      <td>TRSF E-BANKING CR TANGGAL :31/07 3107/FTSCY/WS...</td>\n",
       "      <td>Aug-2023</td>\n",
       "      <td>NYICIL CASBON BINTORO</td>\n",
       "      <td>2</td>\n",
       "      <td>CREDIT</td>\n",
       "      <td>0.226606</td>\n",
       "      <td>1</td>\n",
       "    </tr>\n",
       "    <tr>\n",
       "      <th>2</th>\n",
       "      <td>6280723124</td>\n",
       "      <td>-800000.0</td>\n",
       "      <td>10255228.07</td>\n",
       "      <td>BCA</td>\n",
       "      <td>TRANSFER TO YUYUN EKA WIYANTI M</td>\n",
       "      <td>2023-08-01</td>\n",
       "      <td>SWITCHING DB</td>\n",
       "      <td>SWITCHING DB TRANSFER KE 002 YUYUN EKA WIYANTI...</td>\n",
       "      <td>Aug-2023</td>\n",
       "      <td>YUYUN EKA WIYANTI M</td>\n",
       "      <td>3</td>\n",
       "      <td>DEBIT</td>\n",
       "      <td>0.226977</td>\n",
       "      <td>1</td>\n",
       "    </tr>\n",
       "    <tr>\n",
       "      <th>3</th>\n",
       "      <td>6280723124</td>\n",
       "      <td>-6500.0</td>\n",
       "      <td>10248728.07</td>\n",
       "      <td>BCA</td>\n",
       "      <td>TRANSFER TO YUYUN EKA WIYANTI M</td>\n",
       "      <td>2023-08-01</td>\n",
       "      <td>SWITCHING DB</td>\n",
       "      <td>SWITCHING DB TRANSFER KE 002 YUYUN EKA WIYANTI...</td>\n",
       "      <td>Aug-2023</td>\n",
       "      <td>YUYUN EKA WIYANTI M</td>\n",
       "      <td>4</td>\n",
       "      <td>DEBIT</td>\n",
       "      <td>0.227059</td>\n",
       "      <td>1</td>\n",
       "    </tr>\n",
       "    <tr>\n",
       "      <th>4</th>\n",
       "      <td>6280723124</td>\n",
       "      <td>-100000.0</td>\n",
       "      <td>10148728.07</td>\n",
       "      <td>BCA</td>\n",
       "      <td>TRANSFER TO DEPOSIT SELLA NUR FAUZIAH SALIM</td>\n",
       "      <td>2023-08-02</td>\n",
       "      <td>TRSF E-BANKING DB</td>\n",
       "      <td>TRSF E-BANKING DB 0208/FTSCY/WS95031 100000.00...</td>\n",
       "      <td>Aug-2023</td>\n",
       "      <td>DEPOSIT SELLA NUR FAUZIAH SALIM</td>\n",
       "      <td>5</td>\n",
       "      <td>DEBIT</td>\n",
       "      <td>0.227059</td>\n",
       "      <td>1</td>\n",
       "    </tr>\n",
       "    <tr>\n",
       "      <th>5</th>\n",
       "      <td>6280723124</td>\n",
       "      <td>600000.0</td>\n",
       "      <td>10748728.07</td>\n",
       "      <td>BCA</td>\n",
       "      <td>TRANSFER FROM BINTORO</td>\n",
       "      <td>2023-08-02</td>\n",
       "      <td>TRSF E-BANKING CR</td>\n",
       "      <td>TRSF E-BANKING CR 0208/FTSCY/WS95031 600000.00...</td>\n",
       "      <td>Aug-2023</td>\n",
       "      <td>BINTORO</td>\n",
       "      <td>6</td>\n",
       "      <td>CREDIT</td>\n",
       "      <td>0.226292</td>\n",
       "      <td>1</td>\n",
       "    </tr>\n",
       "  </tbody>\n",
       "</table>\n",
       "</div>"
      ],
      "text/plain": [
       "  Account Number    Amount      Balance Bank Name  \\\n",
       "1     6280723124  500000.0  11055228.07       BCA   \n",
       "2     6280723124 -800000.0  10255228.07       BCA   \n",
       "3     6280723124   -6500.0  10248728.07       BCA   \n",
       "4     6280723124 -100000.0  10148728.07       BCA   \n",
       "5     6280723124  600000.0  10748728.07       BCA   \n",
       "\n",
       "                                      Category        Date  \\\n",
       "1          TRANSFER FROM NYICIL CASBON BINTORO  2023-08-01   \n",
       "2              TRANSFER TO YUYUN EKA WIYANTI M  2023-08-01   \n",
       "3              TRANSFER TO YUYUN EKA WIYANTI M  2023-08-01   \n",
       "4  TRANSFER TO DEPOSIT SELLA NUR FAUZIAH SALIM  2023-08-02   \n",
       "5                        TRANSFER FROM BINTORO  2023-08-02   \n",
       "\n",
       "                          Descriptor  \\\n",
       "1  TRSF E-BANKING CR TANGGAL :31/07    \n",
       "2                      SWITCHING DB    \n",
       "3                      SWITCHING DB    \n",
       "4                 TRSF E-BANKING DB    \n",
       "5                 TRSF E-BANKING CR    \n",
       "\n",
       "                                              Detail     Month  \\\n",
       "1  TRSF E-BANKING CR TANGGAL :31/07 3107/FTSCY/WS...  Aug-2023   \n",
       "2  SWITCHING DB TRANSFER KE 002 YUYUN EKA WIYANTI...  Aug-2023   \n",
       "3  SWITCHING DB TRANSFER KE 002 YUYUN EKA WIYANTI...  Aug-2023   \n",
       "4  TRSF E-BANKING DB 0208/FTSCY/WS95031 100000.00...  Aug-2023   \n",
       "5  TRSF E-BANKING CR 0208/FTSCY/WS95031 600000.00...  Aug-2023   \n",
       "\n",
       "                              Name Serial Number    Type  anomaly_scores  \\\n",
       "1            NYICIL CASBON BINTORO             2  CREDIT        0.226606   \n",
       "2              YUYUN EKA WIYANTI M             3   DEBIT        0.226977   \n",
       "3              YUYUN EKA WIYANTI M             4   DEBIT        0.227059   \n",
       "4  DEPOSIT SELLA NUR FAUZIAH SALIM             5   DEBIT        0.227059   \n",
       "5                          BINTORO             6  CREDIT        0.226292   \n",
       "\n",
       "   anomaly  \n",
       "1        1  \n",
       "2        1  \n",
       "3        1  \n",
       "4        1  \n",
       "5        1  "
      ]
     },
     "execution_count": 45,
     "metadata": {},
     "output_type": "execute_result"
    }
   ],
   "source": [
    "master_bank_df.head()"
   ]
  },
  {
   "cell_type": "code",
   "execution_count": 46,
   "metadata": {},
   "outputs": [
    {
     "data": {
      "text/plain": [
       " 1    643\n",
       "-1     68\n",
       "Name: anomaly, dtype: int64"
      ]
     },
     "execution_count": 46,
     "metadata": {},
     "output_type": "execute_result"
    }
   ],
   "source": [
    "master_bank_df[\"anomaly\"].value_counts()"
   ]
  },
  {
   "cell_type": "code",
   "execution_count": 47,
   "metadata": {
    "scrolled": true
   },
   "outputs": [
    {
     "data": {
      "text/html": [
       "<div>\n",
       "<style scoped>\n",
       "    .dataframe tbody tr th:only-of-type {\n",
       "        vertical-align: middle;\n",
       "    }\n",
       "\n",
       "    .dataframe tbody tr th {\n",
       "        vertical-align: top;\n",
       "    }\n",
       "\n",
       "    .dataframe thead th {\n",
       "        text-align: right;\n",
       "    }\n",
       "</style>\n",
       "<table border=\"1\" class=\"dataframe\">\n",
       "  <thead>\n",
       "    <tr style=\"text-align: right;\">\n",
       "      <th></th>\n",
       "      <th>Balance</th>\n",
       "      <th>Amount</th>\n",
       "    </tr>\n",
       "    <tr>\n",
       "      <th>anomaly</th>\n",
       "      <th></th>\n",
       "      <th></th>\n",
       "    </tr>\n",
       "  </thead>\n",
       "  <tbody>\n",
       "    <tr>\n",
       "      <th>-1</th>\n",
       "      <td>-1.618418e+10</td>\n",
       "      <td>-8.926000e+06</td>\n",
       "    </tr>\n",
       "    <tr>\n",
       "      <th>1</th>\n",
       "      <td>2.215986e+08</td>\n",
       "      <td>5.850116e+05</td>\n",
       "    </tr>\n",
       "  </tbody>\n",
       "</table>\n",
       "</div>"
      ],
      "text/plain": [
       "              Balance        Amount\n",
       "anomaly                            \n",
       "-1      -1.618418e+10 -8.926000e+06\n",
       " 1       2.215986e+08  5.850116e+05"
      ]
     },
     "execution_count": 47,
     "metadata": {},
     "output_type": "execute_result"
    }
   ],
   "source": [
    "master_bank_df.groupby([\"anomaly\"]).agg({'Balance': \"mean\", \"Amount\": \"mean\"})"
   ]
  },
  {
   "cell_type": "markdown",
   "metadata": {},
   "source": [
    "From the outlier detection found by the Isolation Forest Algorithm, the risky transactions are the Debit Transaction (outgoing money) with the average amount in the 8.92 Millions IDR and with the balance -16 billions IDR (the balance falls below 0)."
   ]
  },
  {
   "cell_type": "markdown",
   "metadata": {},
   "source": [
    "After the above process, the outliers transactions considered as the 1 (bad/risky transaction) and the normal transactions considered as the 0 (good/non-risky transactions)"
   ]
  },
  {
   "cell_type": "markdown",
   "metadata": {},
   "source": [
    "## Feature Engineering Creation "
   ]
  },
  {
   "cell_type": "markdown",
   "metadata": {},
   "source": [
    "In the feature engineering creation step, I created additional parameters such as:\n",
    "1. Flag to identify if the transaction is happening on the Weekend / Weekdays\n",
    "2. Categorical encoding for the credit and debit transaction type\n",
    "\n",
    "For future improvements with more time allows, there are several feature engineering could be created such as:\n",
    "1. Flag to identify if this is a business related transaction\n",
    "2. Flag to identify if this is a loan repayment related transaction"
   ]
  },
  {
   "cell_type": "code",
   "execution_count": 48,
   "metadata": {},
   "outputs": [
    {
     "data": {
      "text/html": [
       "<div>\n",
       "<style scoped>\n",
       "    .dataframe tbody tr th:only-of-type {\n",
       "        vertical-align: middle;\n",
       "    }\n",
       "\n",
       "    .dataframe tbody tr th {\n",
       "        vertical-align: top;\n",
       "    }\n",
       "\n",
       "    .dataframe thead th {\n",
       "        text-align: right;\n",
       "    }\n",
       "</style>\n",
       "<table border=\"1\" class=\"dataframe\">\n",
       "  <thead>\n",
       "    <tr style=\"text-align: right;\">\n",
       "      <th></th>\n",
       "      <th>Account Number</th>\n",
       "      <th>Amount</th>\n",
       "      <th>Balance</th>\n",
       "      <th>Bank Name</th>\n",
       "      <th>Category</th>\n",
       "      <th>Date</th>\n",
       "      <th>Descriptor</th>\n",
       "      <th>Detail</th>\n",
       "      <th>Month</th>\n",
       "      <th>Name</th>\n",
       "      <th>Serial Number</th>\n",
       "      <th>Type</th>\n",
       "      <th>anomaly_scores</th>\n",
       "      <th>anomaly</th>\n",
       "    </tr>\n",
       "  </thead>\n",
       "  <tbody>\n",
       "    <tr>\n",
       "      <th>1</th>\n",
       "      <td>6280723124</td>\n",
       "      <td>500000.0</td>\n",
       "      <td>11055228.07</td>\n",
       "      <td>BCA</td>\n",
       "      <td>TRANSFER FROM NYICIL CASBON BINTORO</td>\n",
       "      <td>2023-08-01</td>\n",
       "      <td>TRSF E-BANKING CR TANGGAL :31/07</td>\n",
       "      <td>TRSF E-BANKING CR TANGGAL :31/07 3107/FTSCY/WS...</td>\n",
       "      <td>Aug-2023</td>\n",
       "      <td>NYICIL CASBON BINTORO</td>\n",
       "      <td>2</td>\n",
       "      <td>CREDIT</td>\n",
       "      <td>0.226606</td>\n",
       "      <td>1</td>\n",
       "    </tr>\n",
       "    <tr>\n",
       "      <th>2</th>\n",
       "      <td>6280723124</td>\n",
       "      <td>-800000.0</td>\n",
       "      <td>10255228.07</td>\n",
       "      <td>BCA</td>\n",
       "      <td>TRANSFER TO YUYUN EKA WIYANTI M</td>\n",
       "      <td>2023-08-01</td>\n",
       "      <td>SWITCHING DB</td>\n",
       "      <td>SWITCHING DB TRANSFER KE 002 YUYUN EKA WIYANTI...</td>\n",
       "      <td>Aug-2023</td>\n",
       "      <td>YUYUN EKA WIYANTI M</td>\n",
       "      <td>3</td>\n",
       "      <td>DEBIT</td>\n",
       "      <td>0.226977</td>\n",
       "      <td>1</td>\n",
       "    </tr>\n",
       "    <tr>\n",
       "      <th>3</th>\n",
       "      <td>6280723124</td>\n",
       "      <td>-6500.0</td>\n",
       "      <td>10248728.07</td>\n",
       "      <td>BCA</td>\n",
       "      <td>TRANSFER TO YUYUN EKA WIYANTI M</td>\n",
       "      <td>2023-08-01</td>\n",
       "      <td>SWITCHING DB</td>\n",
       "      <td>SWITCHING DB TRANSFER KE 002 YUYUN EKA WIYANTI...</td>\n",
       "      <td>Aug-2023</td>\n",
       "      <td>YUYUN EKA WIYANTI M</td>\n",
       "      <td>4</td>\n",
       "      <td>DEBIT</td>\n",
       "      <td>0.227059</td>\n",
       "      <td>1</td>\n",
       "    </tr>\n",
       "    <tr>\n",
       "      <th>4</th>\n",
       "      <td>6280723124</td>\n",
       "      <td>-100000.0</td>\n",
       "      <td>10148728.07</td>\n",
       "      <td>BCA</td>\n",
       "      <td>TRANSFER TO DEPOSIT SELLA NUR FAUZIAH SALIM</td>\n",
       "      <td>2023-08-02</td>\n",
       "      <td>TRSF E-BANKING DB</td>\n",
       "      <td>TRSF E-BANKING DB 0208/FTSCY/WS95031 100000.00...</td>\n",
       "      <td>Aug-2023</td>\n",
       "      <td>DEPOSIT SELLA NUR FAUZIAH SALIM</td>\n",
       "      <td>5</td>\n",
       "      <td>DEBIT</td>\n",
       "      <td>0.227059</td>\n",
       "      <td>1</td>\n",
       "    </tr>\n",
       "    <tr>\n",
       "      <th>5</th>\n",
       "      <td>6280723124</td>\n",
       "      <td>600000.0</td>\n",
       "      <td>10748728.07</td>\n",
       "      <td>BCA</td>\n",
       "      <td>TRANSFER FROM BINTORO</td>\n",
       "      <td>2023-08-02</td>\n",
       "      <td>TRSF E-BANKING CR</td>\n",
       "      <td>TRSF E-BANKING CR 0208/FTSCY/WS95031 600000.00...</td>\n",
       "      <td>Aug-2023</td>\n",
       "      <td>BINTORO</td>\n",
       "      <td>6</td>\n",
       "      <td>CREDIT</td>\n",
       "      <td>0.226292</td>\n",
       "      <td>1</td>\n",
       "    </tr>\n",
       "  </tbody>\n",
       "</table>\n",
       "</div>"
      ],
      "text/plain": [
       "  Account Number    Amount      Balance Bank Name  \\\n",
       "1     6280723124  500000.0  11055228.07       BCA   \n",
       "2     6280723124 -800000.0  10255228.07       BCA   \n",
       "3     6280723124   -6500.0  10248728.07       BCA   \n",
       "4     6280723124 -100000.0  10148728.07       BCA   \n",
       "5     6280723124  600000.0  10748728.07       BCA   \n",
       "\n",
       "                                      Category        Date  \\\n",
       "1          TRANSFER FROM NYICIL CASBON BINTORO  2023-08-01   \n",
       "2              TRANSFER TO YUYUN EKA WIYANTI M  2023-08-01   \n",
       "3              TRANSFER TO YUYUN EKA WIYANTI M  2023-08-01   \n",
       "4  TRANSFER TO DEPOSIT SELLA NUR FAUZIAH SALIM  2023-08-02   \n",
       "5                        TRANSFER FROM BINTORO  2023-08-02   \n",
       "\n",
       "                          Descriptor  \\\n",
       "1  TRSF E-BANKING CR TANGGAL :31/07    \n",
       "2                      SWITCHING DB    \n",
       "3                      SWITCHING DB    \n",
       "4                 TRSF E-BANKING DB    \n",
       "5                 TRSF E-BANKING CR    \n",
       "\n",
       "                                              Detail     Month  \\\n",
       "1  TRSF E-BANKING CR TANGGAL :31/07 3107/FTSCY/WS...  Aug-2023   \n",
       "2  SWITCHING DB TRANSFER KE 002 YUYUN EKA WIYANTI...  Aug-2023   \n",
       "3  SWITCHING DB TRANSFER KE 002 YUYUN EKA WIYANTI...  Aug-2023   \n",
       "4  TRSF E-BANKING DB 0208/FTSCY/WS95031 100000.00...  Aug-2023   \n",
       "5  TRSF E-BANKING CR 0208/FTSCY/WS95031 600000.00...  Aug-2023   \n",
       "\n",
       "                              Name Serial Number    Type  anomaly_scores  \\\n",
       "1            NYICIL CASBON BINTORO             2  CREDIT        0.226606   \n",
       "2              YUYUN EKA WIYANTI M             3   DEBIT        0.226977   \n",
       "3              YUYUN EKA WIYANTI M             4   DEBIT        0.227059   \n",
       "4  DEPOSIT SELLA NUR FAUZIAH SALIM             5   DEBIT        0.227059   \n",
       "5                          BINTORO             6  CREDIT        0.226292   \n",
       "\n",
       "   anomaly  \n",
       "1        1  \n",
       "2        1  \n",
       "3        1  \n",
       "4        1  \n",
       "5        1  "
      ]
     },
     "execution_count": 48,
     "metadata": {},
     "output_type": "execute_result"
    }
   ],
   "source": [
    "master_bank_df.head()"
   ]
  },
  {
   "cell_type": "code",
   "execution_count": 49,
   "metadata": {
    "scrolled": true
   },
   "outputs": [
    {
     "data": {
      "text/html": [
       "<div>\n",
       "<style scoped>\n",
       "    .dataframe tbody tr th:only-of-type {\n",
       "        vertical-align: middle;\n",
       "    }\n",
       "\n",
       "    .dataframe tbody tr th {\n",
       "        vertical-align: top;\n",
       "    }\n",
       "\n",
       "    .dataframe thead th {\n",
       "        text-align: right;\n",
       "    }\n",
       "</style>\n",
       "<table border=\"1\" class=\"dataframe\">\n",
       "  <thead>\n",
       "    <tr style=\"text-align: right;\">\n",
       "      <th></th>\n",
       "      <th>Account Number</th>\n",
       "      <th>Amount</th>\n",
       "      <th>Balance</th>\n",
       "      <th>Bank Name</th>\n",
       "      <th>Category</th>\n",
       "      <th>Date</th>\n",
       "      <th>Descriptor</th>\n",
       "      <th>Detail</th>\n",
       "      <th>Month</th>\n",
       "      <th>Name</th>\n",
       "      <th>Serial Number</th>\n",
       "      <th>Type</th>\n",
       "      <th>anomaly_scores</th>\n",
       "      <th>anomaly</th>\n",
       "      <th>Day_Type</th>\n",
       "    </tr>\n",
       "  </thead>\n",
       "  <tbody>\n",
       "    <tr>\n",
       "      <th>1</th>\n",
       "      <td>6280723124</td>\n",
       "      <td>500000.0</td>\n",
       "      <td>11055228.07</td>\n",
       "      <td>BCA</td>\n",
       "      <td>TRANSFER FROM NYICIL CASBON BINTORO</td>\n",
       "      <td>2023-08-01</td>\n",
       "      <td>TRSF E-BANKING CR TANGGAL :31/07</td>\n",
       "      <td>TRSF E-BANKING CR TANGGAL :31/07 3107/FTSCY/WS...</td>\n",
       "      <td>Aug-2023</td>\n",
       "      <td>NYICIL CASBON BINTORO</td>\n",
       "      <td>2</td>\n",
       "      <td>CREDIT</td>\n",
       "      <td>0.226606</td>\n",
       "      <td>1</td>\n",
       "      <td>Weekday</td>\n",
       "    </tr>\n",
       "    <tr>\n",
       "      <th>2</th>\n",
       "      <td>6280723124</td>\n",
       "      <td>-800000.0</td>\n",
       "      <td>10255228.07</td>\n",
       "      <td>BCA</td>\n",
       "      <td>TRANSFER TO YUYUN EKA WIYANTI M</td>\n",
       "      <td>2023-08-01</td>\n",
       "      <td>SWITCHING DB</td>\n",
       "      <td>SWITCHING DB TRANSFER KE 002 YUYUN EKA WIYANTI...</td>\n",
       "      <td>Aug-2023</td>\n",
       "      <td>YUYUN EKA WIYANTI M</td>\n",
       "      <td>3</td>\n",
       "      <td>DEBIT</td>\n",
       "      <td>0.226977</td>\n",
       "      <td>1</td>\n",
       "      <td>Weekday</td>\n",
       "    </tr>\n",
       "    <tr>\n",
       "      <th>3</th>\n",
       "      <td>6280723124</td>\n",
       "      <td>-6500.0</td>\n",
       "      <td>10248728.07</td>\n",
       "      <td>BCA</td>\n",
       "      <td>TRANSFER TO YUYUN EKA WIYANTI M</td>\n",
       "      <td>2023-08-01</td>\n",
       "      <td>SWITCHING DB</td>\n",
       "      <td>SWITCHING DB TRANSFER KE 002 YUYUN EKA WIYANTI...</td>\n",
       "      <td>Aug-2023</td>\n",
       "      <td>YUYUN EKA WIYANTI M</td>\n",
       "      <td>4</td>\n",
       "      <td>DEBIT</td>\n",
       "      <td>0.227059</td>\n",
       "      <td>1</td>\n",
       "      <td>Weekday</td>\n",
       "    </tr>\n",
       "    <tr>\n",
       "      <th>4</th>\n",
       "      <td>6280723124</td>\n",
       "      <td>-100000.0</td>\n",
       "      <td>10148728.07</td>\n",
       "      <td>BCA</td>\n",
       "      <td>TRANSFER TO DEPOSIT SELLA NUR FAUZIAH SALIM</td>\n",
       "      <td>2023-08-02</td>\n",
       "      <td>TRSF E-BANKING DB</td>\n",
       "      <td>TRSF E-BANKING DB 0208/FTSCY/WS95031 100000.00...</td>\n",
       "      <td>Aug-2023</td>\n",
       "      <td>DEPOSIT SELLA NUR FAUZIAH SALIM</td>\n",
       "      <td>5</td>\n",
       "      <td>DEBIT</td>\n",
       "      <td>0.227059</td>\n",
       "      <td>1</td>\n",
       "      <td>Weekday</td>\n",
       "    </tr>\n",
       "    <tr>\n",
       "      <th>5</th>\n",
       "      <td>6280723124</td>\n",
       "      <td>600000.0</td>\n",
       "      <td>10748728.07</td>\n",
       "      <td>BCA</td>\n",
       "      <td>TRANSFER FROM BINTORO</td>\n",
       "      <td>2023-08-02</td>\n",
       "      <td>TRSF E-BANKING CR</td>\n",
       "      <td>TRSF E-BANKING CR 0208/FTSCY/WS95031 600000.00...</td>\n",
       "      <td>Aug-2023</td>\n",
       "      <td>BINTORO</td>\n",
       "      <td>6</td>\n",
       "      <td>CREDIT</td>\n",
       "      <td>0.226292</td>\n",
       "      <td>1</td>\n",
       "      <td>Weekday</td>\n",
       "    </tr>\n",
       "  </tbody>\n",
       "</table>\n",
       "</div>"
      ],
      "text/plain": [
       "  Account Number    Amount      Balance Bank Name  \\\n",
       "1     6280723124  500000.0  11055228.07       BCA   \n",
       "2     6280723124 -800000.0  10255228.07       BCA   \n",
       "3     6280723124   -6500.0  10248728.07       BCA   \n",
       "4     6280723124 -100000.0  10148728.07       BCA   \n",
       "5     6280723124  600000.0  10748728.07       BCA   \n",
       "\n",
       "                                      Category       Date  \\\n",
       "1          TRANSFER FROM NYICIL CASBON BINTORO 2023-08-01   \n",
       "2              TRANSFER TO YUYUN EKA WIYANTI M 2023-08-01   \n",
       "3              TRANSFER TO YUYUN EKA WIYANTI M 2023-08-01   \n",
       "4  TRANSFER TO DEPOSIT SELLA NUR FAUZIAH SALIM 2023-08-02   \n",
       "5                        TRANSFER FROM BINTORO 2023-08-02   \n",
       "\n",
       "                          Descriptor  \\\n",
       "1  TRSF E-BANKING CR TANGGAL :31/07    \n",
       "2                      SWITCHING DB    \n",
       "3                      SWITCHING DB    \n",
       "4                 TRSF E-BANKING DB    \n",
       "5                 TRSF E-BANKING CR    \n",
       "\n",
       "                                              Detail     Month  \\\n",
       "1  TRSF E-BANKING CR TANGGAL :31/07 3107/FTSCY/WS...  Aug-2023   \n",
       "2  SWITCHING DB TRANSFER KE 002 YUYUN EKA WIYANTI...  Aug-2023   \n",
       "3  SWITCHING DB TRANSFER KE 002 YUYUN EKA WIYANTI...  Aug-2023   \n",
       "4  TRSF E-BANKING DB 0208/FTSCY/WS95031 100000.00...  Aug-2023   \n",
       "5  TRSF E-BANKING CR 0208/FTSCY/WS95031 600000.00...  Aug-2023   \n",
       "\n",
       "                              Name Serial Number    Type  anomaly_scores  \\\n",
       "1            NYICIL CASBON BINTORO             2  CREDIT        0.226606   \n",
       "2              YUYUN EKA WIYANTI M             3   DEBIT        0.226977   \n",
       "3              YUYUN EKA WIYANTI M             4   DEBIT        0.227059   \n",
       "4  DEPOSIT SELLA NUR FAUZIAH SALIM             5   DEBIT        0.227059   \n",
       "5                          BINTORO             6  CREDIT        0.226292   \n",
       "\n",
       "   anomaly Day_Type  \n",
       "1        1  Weekday  \n",
       "2        1  Weekday  \n",
       "3        1  Weekday  \n",
       "4        1  Weekday  \n",
       "5        1  Weekday  "
      ]
     },
     "execution_count": 49,
     "metadata": {},
     "output_type": "execute_result"
    }
   ],
   "source": [
    "master_bank_df['Date'] = pd.to_datetime(master_bank_df['Date'])\n",
    "\n",
    "# Add a new column 'Day_Type' to indicate weekday or weekend\n",
    "master_bank_df['Day_Type'] = master_bank_df['Date'].dt.dayofweek.apply(lambda x: 'Weekend' if x >= 5 else 'Weekday')\n",
    "master_bank_df.head()"
   ]
  },
  {
   "cell_type": "code",
   "execution_count": 50,
   "metadata": {},
   "outputs": [],
   "source": [
    "master_bank_df['Day_Type'] = master_bank_df['Date'].dt.dayofweek.apply(lambda x: 1 if x >= 5 else 0)\n",
    "\n",
    "# Map 'Transaction_Type' to 0 (Credit) and 1 (Debit)\n",
    "master_bank_df['Type'] = master_bank_df['Type'].map({'CREDIT': 0, 'DEBIT': 1})\n"
   ]
  },
  {
   "cell_type": "code",
   "execution_count": 51,
   "metadata": {
    "scrolled": false
   },
   "outputs": [
    {
     "data": {
      "text/html": [
       "<div>\n",
       "<style scoped>\n",
       "    .dataframe tbody tr th:only-of-type {\n",
       "        vertical-align: middle;\n",
       "    }\n",
       "\n",
       "    .dataframe tbody tr th {\n",
       "        vertical-align: top;\n",
       "    }\n",
       "\n",
       "    .dataframe thead th {\n",
       "        text-align: right;\n",
       "    }\n",
       "</style>\n",
       "<table border=\"1\" class=\"dataframe\">\n",
       "  <thead>\n",
       "    <tr style=\"text-align: right;\">\n",
       "      <th></th>\n",
       "      <th>Account Number</th>\n",
       "      <th>Amount</th>\n",
       "      <th>Balance</th>\n",
       "      <th>Bank Name</th>\n",
       "      <th>Category</th>\n",
       "      <th>Date</th>\n",
       "      <th>Descriptor</th>\n",
       "      <th>Detail</th>\n",
       "      <th>Month</th>\n",
       "      <th>Name</th>\n",
       "      <th>Serial Number</th>\n",
       "      <th>Type</th>\n",
       "      <th>anomaly_scores</th>\n",
       "      <th>anomaly</th>\n",
       "      <th>Day_Type</th>\n",
       "    </tr>\n",
       "  </thead>\n",
       "  <tbody>\n",
       "    <tr>\n",
       "      <th>1</th>\n",
       "      <td>6280723124</td>\n",
       "      <td>500000.0</td>\n",
       "      <td>11055228.07</td>\n",
       "      <td>BCA</td>\n",
       "      <td>TRANSFER FROM NYICIL CASBON BINTORO</td>\n",
       "      <td>2023-08-01</td>\n",
       "      <td>TRSF E-BANKING CR TANGGAL :31/07</td>\n",
       "      <td>TRSF E-BANKING CR TANGGAL :31/07 3107/FTSCY/WS...</td>\n",
       "      <td>Aug-2023</td>\n",
       "      <td>NYICIL CASBON BINTORO</td>\n",
       "      <td>2</td>\n",
       "      <td>0</td>\n",
       "      <td>0.226606</td>\n",
       "      <td>1</td>\n",
       "      <td>0</td>\n",
       "    </tr>\n",
       "    <tr>\n",
       "      <th>2</th>\n",
       "      <td>6280723124</td>\n",
       "      <td>-800000.0</td>\n",
       "      <td>10255228.07</td>\n",
       "      <td>BCA</td>\n",
       "      <td>TRANSFER TO YUYUN EKA WIYANTI M</td>\n",
       "      <td>2023-08-01</td>\n",
       "      <td>SWITCHING DB</td>\n",
       "      <td>SWITCHING DB TRANSFER KE 002 YUYUN EKA WIYANTI...</td>\n",
       "      <td>Aug-2023</td>\n",
       "      <td>YUYUN EKA WIYANTI M</td>\n",
       "      <td>3</td>\n",
       "      <td>1</td>\n",
       "      <td>0.226977</td>\n",
       "      <td>1</td>\n",
       "      <td>0</td>\n",
       "    </tr>\n",
       "    <tr>\n",
       "      <th>3</th>\n",
       "      <td>6280723124</td>\n",
       "      <td>-6500.0</td>\n",
       "      <td>10248728.07</td>\n",
       "      <td>BCA</td>\n",
       "      <td>TRANSFER TO YUYUN EKA WIYANTI M</td>\n",
       "      <td>2023-08-01</td>\n",
       "      <td>SWITCHING DB</td>\n",
       "      <td>SWITCHING DB TRANSFER KE 002 YUYUN EKA WIYANTI...</td>\n",
       "      <td>Aug-2023</td>\n",
       "      <td>YUYUN EKA WIYANTI M</td>\n",
       "      <td>4</td>\n",
       "      <td>1</td>\n",
       "      <td>0.227059</td>\n",
       "      <td>1</td>\n",
       "      <td>0</td>\n",
       "    </tr>\n",
       "    <tr>\n",
       "      <th>4</th>\n",
       "      <td>6280723124</td>\n",
       "      <td>-100000.0</td>\n",
       "      <td>10148728.07</td>\n",
       "      <td>BCA</td>\n",
       "      <td>TRANSFER TO DEPOSIT SELLA NUR FAUZIAH SALIM</td>\n",
       "      <td>2023-08-02</td>\n",
       "      <td>TRSF E-BANKING DB</td>\n",
       "      <td>TRSF E-BANKING DB 0208/FTSCY/WS95031 100000.00...</td>\n",
       "      <td>Aug-2023</td>\n",
       "      <td>DEPOSIT SELLA NUR FAUZIAH SALIM</td>\n",
       "      <td>5</td>\n",
       "      <td>1</td>\n",
       "      <td>0.227059</td>\n",
       "      <td>1</td>\n",
       "      <td>0</td>\n",
       "    </tr>\n",
       "    <tr>\n",
       "      <th>5</th>\n",
       "      <td>6280723124</td>\n",
       "      <td>600000.0</td>\n",
       "      <td>10748728.07</td>\n",
       "      <td>BCA</td>\n",
       "      <td>TRANSFER FROM BINTORO</td>\n",
       "      <td>2023-08-02</td>\n",
       "      <td>TRSF E-BANKING CR</td>\n",
       "      <td>TRSF E-BANKING CR 0208/FTSCY/WS95031 600000.00...</td>\n",
       "      <td>Aug-2023</td>\n",
       "      <td>BINTORO</td>\n",
       "      <td>6</td>\n",
       "      <td>0</td>\n",
       "      <td>0.226292</td>\n",
       "      <td>1</td>\n",
       "      <td>0</td>\n",
       "    </tr>\n",
       "    <tr>\n",
       "      <th>6</th>\n",
       "      <td>6280723124</td>\n",
       "      <td>6100000.0</td>\n",
       "      <td>16848728.07</td>\n",
       "      <td>BCA</td>\n",
       "      <td>TRANSFER FROM VIA CDM BAYU KURNIAWAN</td>\n",
       "      <td>2023-08-02</td>\n",
       "      <td>SETORAN VIA CDM</td>\n",
       "      <td>SETORAN VIA CDM 02/08 WSID:ZBH11 BAYU KURNIAWAN</td>\n",
       "      <td>Aug-2023</td>\n",
       "      <td>VIA CDM BAYU KURNIAWAN</td>\n",
       "      <td>7</td>\n",
       "      <td>0</td>\n",
       "      <td>0.208772</td>\n",
       "      <td>1</td>\n",
       "      <td>0</td>\n",
       "    </tr>\n",
       "    <tr>\n",
       "      <th>7</th>\n",
       "      <td>6280723124</td>\n",
       "      <td>3900000.0</td>\n",
       "      <td>20748728.07</td>\n",
       "      <td>BCA</td>\n",
       "      <td>TRANSFER FROM VIA CDM BAYU KURNIAWAN</td>\n",
       "      <td>2023-08-02</td>\n",
       "      <td>SETORAN VIA CDM</td>\n",
       "      <td>SETORAN VIA CDM 02/08 WSID:ZBH11 BAYU KURNIAWAN</td>\n",
       "      <td>Aug-2023</td>\n",
       "      <td>VIA CDM BAYU KURNIAWAN</td>\n",
       "      <td>8</td>\n",
       "      <td>0</td>\n",
       "      <td>0.207900</td>\n",
       "      <td>1</td>\n",
       "      <td>0</td>\n",
       "    </tr>\n",
       "    <tr>\n",
       "      <th>8</th>\n",
       "      <td>6280723124</td>\n",
       "      <td>-20000000.0</td>\n",
       "      <td>748728.07</td>\n",
       "      <td>BCA</td>\n",
       "      <td>TRANSFER TO I NYOMAN SUHENDRA</td>\n",
       "      <td>2023-08-02</td>\n",
       "      <td>TRSF E-BANKING DB</td>\n",
       "      <td>TRSF E-BANKING DB 0208/FTSCY/WS95031 20000000....</td>\n",
       "      <td>Aug-2023</td>\n",
       "      <td>I NYOMAN SUHENDRA</td>\n",
       "      <td>9</td>\n",
       "      <td>1</td>\n",
       "      <td>0.162617</td>\n",
       "      <td>1</td>\n",
       "      <td>0</td>\n",
       "    </tr>\n",
       "    <tr>\n",
       "      <th>9</th>\n",
       "      <td>6280723124</td>\n",
       "      <td>-25000.0</td>\n",
       "      <td>723728.07</td>\n",
       "      <td>BCA</td>\n",
       "      <td>TRANSFER TO AGUS SOLIHIN</td>\n",
       "      <td>2023-08-02</td>\n",
       "      <td>TRSF E-BANKING DB</td>\n",
       "      <td>TRSF E-BANKING DB 0208/FTSCY/WS95031 25000.00 ...</td>\n",
       "      <td>Aug-2023</td>\n",
       "      <td>AGUS SOLIHIN</td>\n",
       "      <td>10</td>\n",
       "      <td>1</td>\n",
       "      <td>0.228982</td>\n",
       "      <td>1</td>\n",
       "      <td>0</td>\n",
       "    </tr>\n",
       "    <tr>\n",
       "      <th>10</th>\n",
       "      <td>6280723124</td>\n",
       "      <td>-500000.0</td>\n",
       "      <td>223728.07</td>\n",
       "      <td>BCA</td>\n",
       "      <td>TRANSFER TO KASBON BINTORO</td>\n",
       "      <td>2023-08-03</td>\n",
       "      <td>TRSF E-BANKING DB TANGGAL :02/08</td>\n",
       "      <td>TRSF E-BANKING DB TANGGAL :02/08 0208/FTSCY/WS...</td>\n",
       "      <td>Aug-2023</td>\n",
       "      <td>KASBON BINTORO</td>\n",
       "      <td>11</td>\n",
       "      <td>1</td>\n",
       "      <td>0.228777</td>\n",
       "      <td>1</td>\n",
       "      <td>0</td>\n",
       "    </tr>\n",
       "  </tbody>\n",
       "</table>\n",
       "</div>"
      ],
      "text/plain": [
       "   Account Number      Amount      Balance Bank Name  \\\n",
       "1      6280723124    500000.0  11055228.07       BCA   \n",
       "2      6280723124   -800000.0  10255228.07       BCA   \n",
       "3      6280723124     -6500.0  10248728.07       BCA   \n",
       "4      6280723124   -100000.0  10148728.07       BCA   \n",
       "5      6280723124    600000.0  10748728.07       BCA   \n",
       "6      6280723124   6100000.0  16848728.07       BCA   \n",
       "7      6280723124   3900000.0  20748728.07       BCA   \n",
       "8      6280723124 -20000000.0    748728.07       BCA   \n",
       "9      6280723124    -25000.0    723728.07       BCA   \n",
       "10     6280723124   -500000.0    223728.07       BCA   \n",
       "\n",
       "                                       Category       Date  \\\n",
       "1           TRANSFER FROM NYICIL CASBON BINTORO 2023-08-01   \n",
       "2               TRANSFER TO YUYUN EKA WIYANTI M 2023-08-01   \n",
       "3               TRANSFER TO YUYUN EKA WIYANTI M 2023-08-01   \n",
       "4   TRANSFER TO DEPOSIT SELLA NUR FAUZIAH SALIM 2023-08-02   \n",
       "5                         TRANSFER FROM BINTORO 2023-08-02   \n",
       "6          TRANSFER FROM VIA CDM BAYU KURNIAWAN 2023-08-02   \n",
       "7          TRANSFER FROM VIA CDM BAYU KURNIAWAN 2023-08-02   \n",
       "8                 TRANSFER TO I NYOMAN SUHENDRA 2023-08-02   \n",
       "9                      TRANSFER TO AGUS SOLIHIN 2023-08-02   \n",
       "10                   TRANSFER TO KASBON BINTORO 2023-08-03   \n",
       "\n",
       "                           Descriptor  \\\n",
       "1   TRSF E-BANKING CR TANGGAL :31/07    \n",
       "2                       SWITCHING DB    \n",
       "3                       SWITCHING DB    \n",
       "4                  TRSF E-BANKING DB    \n",
       "5                  TRSF E-BANKING CR    \n",
       "6                    SETORAN VIA CDM    \n",
       "7                    SETORAN VIA CDM    \n",
       "8                  TRSF E-BANKING DB    \n",
       "9                  TRSF E-BANKING DB    \n",
       "10  TRSF E-BANKING DB TANGGAL :02/08    \n",
       "\n",
       "                                               Detail     Month  \\\n",
       "1   TRSF E-BANKING CR TANGGAL :31/07 3107/FTSCY/WS...  Aug-2023   \n",
       "2   SWITCHING DB TRANSFER KE 002 YUYUN EKA WIYANTI...  Aug-2023   \n",
       "3   SWITCHING DB TRANSFER KE 002 YUYUN EKA WIYANTI...  Aug-2023   \n",
       "4   TRSF E-BANKING DB 0208/FTSCY/WS95031 100000.00...  Aug-2023   \n",
       "5   TRSF E-BANKING CR 0208/FTSCY/WS95031 600000.00...  Aug-2023   \n",
       "6     SETORAN VIA CDM 02/08 WSID:ZBH11 BAYU KURNIAWAN  Aug-2023   \n",
       "7     SETORAN VIA CDM 02/08 WSID:ZBH11 BAYU KURNIAWAN  Aug-2023   \n",
       "8   TRSF E-BANKING DB 0208/FTSCY/WS95031 20000000....  Aug-2023   \n",
       "9   TRSF E-BANKING DB 0208/FTSCY/WS95031 25000.00 ...  Aug-2023   \n",
       "10  TRSF E-BANKING DB TANGGAL :02/08 0208/FTSCY/WS...  Aug-2023   \n",
       "\n",
       "                               Name Serial Number  Type  anomaly_scores  \\\n",
       "1             NYICIL CASBON BINTORO             2     0        0.226606   \n",
       "2               YUYUN EKA WIYANTI M             3     1        0.226977   \n",
       "3               YUYUN EKA WIYANTI M             4     1        0.227059   \n",
       "4   DEPOSIT SELLA NUR FAUZIAH SALIM             5     1        0.227059   \n",
       "5                           BINTORO             6     0        0.226292   \n",
       "6            VIA CDM BAYU KURNIAWAN             7     0        0.208772   \n",
       "7            VIA CDM BAYU KURNIAWAN             8     0        0.207900   \n",
       "8                 I NYOMAN SUHENDRA             9     1        0.162617   \n",
       "9                      AGUS SOLIHIN            10     1        0.228982   \n",
       "10                   KASBON BINTORO            11     1        0.228777   \n",
       "\n",
       "    anomaly  Day_Type  \n",
       "1         1         0  \n",
       "2         1         0  \n",
       "3         1         0  \n",
       "4         1         0  \n",
       "5         1         0  \n",
       "6         1         0  \n",
       "7         1         0  \n",
       "8         1         0  \n",
       "9         1         0  \n",
       "10        1         0  "
      ]
     },
     "execution_count": 51,
     "metadata": {},
     "output_type": "execute_result"
    }
   ],
   "source": [
    "master_bank_df.head(10)"
   ]
  },
  {
   "cell_type": "code",
   "execution_count": 52,
   "metadata": {
    "scrolled": true
   },
   "outputs": [
    {
     "data": {
      "text/html": [
       "<div>\n",
       "<style scoped>\n",
       "    .dataframe tbody tr th:only-of-type {\n",
       "        vertical-align: middle;\n",
       "    }\n",
       "\n",
       "    .dataframe tbody tr th {\n",
       "        vertical-align: top;\n",
       "    }\n",
       "\n",
       "    .dataframe thead th {\n",
       "        text-align: right;\n",
       "    }\n",
       "</style>\n",
       "<table border=\"1\" class=\"dataframe\">\n",
       "  <thead>\n",
       "    <tr style=\"text-align: right;\">\n",
       "      <th></th>\n",
       "      <th>Amount</th>\n",
       "      <th>Balance</th>\n",
       "      <th>Type</th>\n",
       "      <th>Day_Type</th>\n",
       "      <th>anomaly</th>\n",
       "    </tr>\n",
       "  </thead>\n",
       "  <tbody>\n",
       "    <tr>\n",
       "      <th>1</th>\n",
       "      <td>500000.0</td>\n",
       "      <td>1.105523e+07</td>\n",
       "      <td>0</td>\n",
       "      <td>0</td>\n",
       "      <td>1</td>\n",
       "    </tr>\n",
       "    <tr>\n",
       "      <th>2</th>\n",
       "      <td>-800000.0</td>\n",
       "      <td>1.025523e+07</td>\n",
       "      <td>1</td>\n",
       "      <td>0</td>\n",
       "      <td>1</td>\n",
       "    </tr>\n",
       "    <tr>\n",
       "      <th>3</th>\n",
       "      <td>-6500.0</td>\n",
       "      <td>1.024873e+07</td>\n",
       "      <td>1</td>\n",
       "      <td>0</td>\n",
       "      <td>1</td>\n",
       "    </tr>\n",
       "    <tr>\n",
       "      <th>4</th>\n",
       "      <td>-100000.0</td>\n",
       "      <td>1.014873e+07</td>\n",
       "      <td>1</td>\n",
       "      <td>0</td>\n",
       "      <td>1</td>\n",
       "    </tr>\n",
       "    <tr>\n",
       "      <th>5</th>\n",
       "      <td>600000.0</td>\n",
       "      <td>1.074873e+07</td>\n",
       "      <td>0</td>\n",
       "      <td>0</td>\n",
       "      <td>1</td>\n",
       "    </tr>\n",
       "    <tr>\n",
       "      <th>...</th>\n",
       "      <td>...</td>\n",
       "      <td>...</td>\n",
       "      <td>...</td>\n",
       "      <td>...</td>\n",
       "      <td>...</td>\n",
       "    </tr>\n",
       "    <tr>\n",
       "      <th>83</th>\n",
       "      <td>-30000.0</td>\n",
       "      <td>-4.788594e+09</td>\n",
       "      <td>1</td>\n",
       "      <td>0</td>\n",
       "      <td>-1</td>\n",
       "    </tr>\n",
       "    <tr>\n",
       "      <th>84</th>\n",
       "      <td>-14355776.0</td>\n",
       "      <td>-4.731375e+11</td>\n",
       "      <td>1</td>\n",
       "      <td>0</td>\n",
       "      <td>-1</td>\n",
       "    </tr>\n",
       "    <tr>\n",
       "      <th>85</th>\n",
       "      <td>50000000.0</td>\n",
       "      <td>-4.681375e+09</td>\n",
       "      <td>0</td>\n",
       "      <td>0</td>\n",
       "      <td>-1</td>\n",
       "    </tr>\n",
       "    <tr>\n",
       "      <th>86</th>\n",
       "      <td>-16108.0</td>\n",
       "      <td>-4.697499e+09</td>\n",
       "      <td>1</td>\n",
       "      <td>0</td>\n",
       "      <td>1</td>\n",
       "    </tr>\n",
       "    <tr>\n",
       "      <th>87</th>\n",
       "      <td>-30000.0</td>\n",
       "      <td>-4.697529e+09</td>\n",
       "      <td>1</td>\n",
       "      <td>0</td>\n",
       "      <td>1</td>\n",
       "    </tr>\n",
       "  </tbody>\n",
       "</table>\n",
       "<p>711 rows × 5 columns</p>\n",
       "</div>"
      ],
      "text/plain": [
       "        Amount       Balance  Type  Day_Type  anomaly\n",
       "1     500000.0  1.105523e+07     0         0        1\n",
       "2    -800000.0  1.025523e+07     1         0        1\n",
       "3      -6500.0  1.024873e+07     1         0        1\n",
       "4    -100000.0  1.014873e+07     1         0        1\n",
       "5     600000.0  1.074873e+07     0         0        1\n",
       "..         ...           ...   ...       ...      ...\n",
       "83    -30000.0 -4.788594e+09     1         0       -1\n",
       "84 -14355776.0 -4.731375e+11     1         0       -1\n",
       "85  50000000.0 -4.681375e+09     0         0       -1\n",
       "86    -16108.0 -4.697499e+09     1         0        1\n",
       "87    -30000.0 -4.697529e+09     1         0        1\n",
       "\n",
       "[711 rows x 5 columns]"
      ]
     },
     "execution_count": 52,
     "metadata": {},
     "output_type": "execute_result"
    }
   ],
   "source": [
    "# data for classification model development, anomaly column is the label\n",
    "master_bank_df[[\"Amount\", \"Balance\", \"Type\", \"Day_Type\", \"anomaly\"]]"
   ]
  },
  {
   "cell_type": "code",
   "execution_count": 53,
   "metadata": {
    "scrolled": true
   },
   "outputs": [
    {
     "data": {
      "text/html": [
       "<div>\n",
       "<style scoped>\n",
       "    .dataframe tbody tr th:only-of-type {\n",
       "        vertical-align: middle;\n",
       "    }\n",
       "\n",
       "    .dataframe tbody tr th {\n",
       "        vertical-align: top;\n",
       "    }\n",
       "\n",
       "    .dataframe thead th {\n",
       "        text-align: right;\n",
       "    }\n",
       "</style>\n",
       "<table border=\"1\" class=\"dataframe\">\n",
       "  <thead>\n",
       "    <tr style=\"text-align: right;\">\n",
       "      <th></th>\n",
       "      <th>Account Number</th>\n",
       "      <th>Amount</th>\n",
       "      <th>Balance</th>\n",
       "      <th>Bank Name</th>\n",
       "      <th>Category</th>\n",
       "      <th>Date</th>\n",
       "      <th>Descriptor</th>\n",
       "      <th>Detail</th>\n",
       "      <th>Month</th>\n",
       "      <th>Name</th>\n",
       "      <th>Serial Number</th>\n",
       "      <th>Type</th>\n",
       "      <th>anomaly_scores</th>\n",
       "      <th>anomaly</th>\n",
       "      <th>Day_Type</th>\n",
       "    </tr>\n",
       "  </thead>\n",
       "  <tbody>\n",
       "    <tr>\n",
       "      <th>1</th>\n",
       "      <td>6280723124</td>\n",
       "      <td>500000.0</td>\n",
       "      <td>11055228.07</td>\n",
       "      <td>BCA</td>\n",
       "      <td>TRANSFER FROM NYICIL CASBON BINTORO</td>\n",
       "      <td>2023-08-01</td>\n",
       "      <td>TRSF E-BANKING CR TANGGAL :31/07</td>\n",
       "      <td>TRSF E-BANKING CR TANGGAL :31/07 3107/FTSCY/WS...</td>\n",
       "      <td>Aug-2023</td>\n",
       "      <td>NYICIL CASBON BINTORO</td>\n",
       "      <td>2</td>\n",
       "      <td>0</td>\n",
       "      <td>0.226606</td>\n",
       "      <td>0</td>\n",
       "      <td>0</td>\n",
       "    </tr>\n",
       "    <tr>\n",
       "      <th>2</th>\n",
       "      <td>6280723124</td>\n",
       "      <td>-800000.0</td>\n",
       "      <td>10255228.07</td>\n",
       "      <td>BCA</td>\n",
       "      <td>TRANSFER TO YUYUN EKA WIYANTI M</td>\n",
       "      <td>2023-08-01</td>\n",
       "      <td>SWITCHING DB</td>\n",
       "      <td>SWITCHING DB TRANSFER KE 002 YUYUN EKA WIYANTI...</td>\n",
       "      <td>Aug-2023</td>\n",
       "      <td>YUYUN EKA WIYANTI M</td>\n",
       "      <td>3</td>\n",
       "      <td>1</td>\n",
       "      <td>0.226977</td>\n",
       "      <td>0</td>\n",
       "      <td>0</td>\n",
       "    </tr>\n",
       "    <tr>\n",
       "      <th>3</th>\n",
       "      <td>6280723124</td>\n",
       "      <td>-6500.0</td>\n",
       "      <td>10248728.07</td>\n",
       "      <td>BCA</td>\n",
       "      <td>TRANSFER TO YUYUN EKA WIYANTI M</td>\n",
       "      <td>2023-08-01</td>\n",
       "      <td>SWITCHING DB</td>\n",
       "      <td>SWITCHING DB TRANSFER KE 002 YUYUN EKA WIYANTI...</td>\n",
       "      <td>Aug-2023</td>\n",
       "      <td>YUYUN EKA WIYANTI M</td>\n",
       "      <td>4</td>\n",
       "      <td>1</td>\n",
       "      <td>0.227059</td>\n",
       "      <td>0</td>\n",
       "      <td>0</td>\n",
       "    </tr>\n",
       "    <tr>\n",
       "      <th>4</th>\n",
       "      <td>6280723124</td>\n",
       "      <td>-100000.0</td>\n",
       "      <td>10148728.07</td>\n",
       "      <td>BCA</td>\n",
       "      <td>TRANSFER TO DEPOSIT SELLA NUR FAUZIAH SALIM</td>\n",
       "      <td>2023-08-02</td>\n",
       "      <td>TRSF E-BANKING DB</td>\n",
       "      <td>TRSF E-BANKING DB 0208/FTSCY/WS95031 100000.00...</td>\n",
       "      <td>Aug-2023</td>\n",
       "      <td>DEPOSIT SELLA NUR FAUZIAH SALIM</td>\n",
       "      <td>5</td>\n",
       "      <td>1</td>\n",
       "      <td>0.227059</td>\n",
       "      <td>0</td>\n",
       "      <td>0</td>\n",
       "    </tr>\n",
       "    <tr>\n",
       "      <th>5</th>\n",
       "      <td>6280723124</td>\n",
       "      <td>600000.0</td>\n",
       "      <td>10748728.07</td>\n",
       "      <td>BCA</td>\n",
       "      <td>TRANSFER FROM BINTORO</td>\n",
       "      <td>2023-08-02</td>\n",
       "      <td>TRSF E-BANKING CR</td>\n",
       "      <td>TRSF E-BANKING CR 0208/FTSCY/WS95031 600000.00...</td>\n",
       "      <td>Aug-2023</td>\n",
       "      <td>BINTORO</td>\n",
       "      <td>6</td>\n",
       "      <td>0</td>\n",
       "      <td>0.226292</td>\n",
       "      <td>0</td>\n",
       "      <td>0</td>\n",
       "    </tr>\n",
       "  </tbody>\n",
       "</table>\n",
       "</div>"
      ],
      "text/plain": [
       "  Account Number    Amount      Balance Bank Name  \\\n",
       "1     6280723124  500000.0  11055228.07       BCA   \n",
       "2     6280723124 -800000.0  10255228.07       BCA   \n",
       "3     6280723124   -6500.0  10248728.07       BCA   \n",
       "4     6280723124 -100000.0  10148728.07       BCA   \n",
       "5     6280723124  600000.0  10748728.07       BCA   \n",
       "\n",
       "                                      Category       Date  \\\n",
       "1          TRANSFER FROM NYICIL CASBON BINTORO 2023-08-01   \n",
       "2              TRANSFER TO YUYUN EKA WIYANTI M 2023-08-01   \n",
       "3              TRANSFER TO YUYUN EKA WIYANTI M 2023-08-01   \n",
       "4  TRANSFER TO DEPOSIT SELLA NUR FAUZIAH SALIM 2023-08-02   \n",
       "5                        TRANSFER FROM BINTORO 2023-08-02   \n",
       "\n",
       "                          Descriptor  \\\n",
       "1  TRSF E-BANKING CR TANGGAL :31/07    \n",
       "2                      SWITCHING DB    \n",
       "3                      SWITCHING DB    \n",
       "4                 TRSF E-BANKING DB    \n",
       "5                 TRSF E-BANKING CR    \n",
       "\n",
       "                                              Detail     Month  \\\n",
       "1  TRSF E-BANKING CR TANGGAL :31/07 3107/FTSCY/WS...  Aug-2023   \n",
       "2  SWITCHING DB TRANSFER KE 002 YUYUN EKA WIYANTI...  Aug-2023   \n",
       "3  SWITCHING DB TRANSFER KE 002 YUYUN EKA WIYANTI...  Aug-2023   \n",
       "4  TRSF E-BANKING DB 0208/FTSCY/WS95031 100000.00...  Aug-2023   \n",
       "5  TRSF E-BANKING CR 0208/FTSCY/WS95031 600000.00...  Aug-2023   \n",
       "\n",
       "                              Name Serial Number  Type  anomaly_scores  \\\n",
       "1            NYICIL CASBON BINTORO             2     0        0.226606   \n",
       "2              YUYUN EKA WIYANTI M             3     1        0.226977   \n",
       "3              YUYUN EKA WIYANTI M             4     1        0.227059   \n",
       "4  DEPOSIT SELLA NUR FAUZIAH SALIM             5     1        0.227059   \n",
       "5                          BINTORO             6     0        0.226292   \n",
       "\n",
       "   anomaly  Day_Type  \n",
       "1        0         0  \n",
       "2        0         0  \n",
       "3        0         0  \n",
       "4        0         0  \n",
       "5        0         0  "
      ]
     },
     "execution_count": 53,
     "metadata": {},
     "output_type": "execute_result"
    }
   ],
   "source": [
    "# map the outliers transaction to 1 (risky transaction) and the rest to 0 (non-risky transaction)\n",
    "master_bank_df['anomaly'] = master_bank_df['anomaly'].map({-1: 1, 1: 0})\n",
    "master_bank_df.head()"
   ]
  },
  {
   "cell_type": "markdown",
   "metadata": {},
   "source": [
    "## Model Development, Evaluation, and Hyperparameter Tuning"
   ]
  },
  {
   "cell_type": "code",
   "execution_count": 69,
   "metadata": {
    "scrolled": true
   },
   "outputs": [
    {
     "name": "stdout",
     "output_type": "stream",
     "text": [
      "Classifier: Random Forest\n",
      "Cross-Validation - Precision: 0.98417891464104\n",
      "Cross-Validation - Recall: 0.9649122807017543\n",
      "Cross-Validation - F1 Score: 0.9695409695586233\n",
      "Test Set Classification Report:\n",
      "                       precision    recall  f1-score   support\n",
      "\n",
      "Non-Risky Transaction       1.00      0.99      0.99        67\n",
      "    Risky Transaction       0.83      1.00      0.91         5\n",
      "\n",
      "             accuracy                           0.99        72\n",
      "            macro avg       0.92      0.99      0.95        72\n",
      "         weighted avg       0.99      0.99      0.99        72\n",
      "\n",
      "\n",
      "\n",
      "Classifier: XGBoost\n",
      "Cross-Validation - Precision: 0.9587168724116488\n",
      "Cross-Validation - Recall: 0.9465214761040531\n",
      "Cross-Validation - F1 Score: 0.9483432130667493\n",
      "Test Set Classification Report:\n",
      "                       precision    recall  f1-score   support\n",
      "\n",
      "Non-Risky Transaction       1.00      0.99      0.99        67\n",
      "    Risky Transaction       0.83      1.00      0.91         5\n",
      "\n",
      "             accuracy                           0.99        72\n",
      "            macro avg       0.92      0.99      0.95        72\n",
      "         weighted avg       0.99      0.99      0.99        72\n",
      "\n",
      "\n",
      "\n",
      "Classifier: CatBoost\n",
      "Cross-Validation - Precision: 0.9808551403631153\n",
      "Cross-Validation - Recall: 0.9327694235588971\n",
      "Cross-Validation - F1 Score: 0.9465749273598447\n",
      "Test Set Classification Report:\n",
      "                       precision    recall  f1-score   support\n",
      "\n",
      "Non-Risky Transaction       1.00      0.99      0.99        67\n",
      "    Risky Transaction       0.83      1.00      0.91         5\n",
      "\n",
      "             accuracy                           0.99        72\n",
      "            macro avg       0.92      0.99      0.95        72\n",
      "         weighted avg       0.99      0.99      0.99        72\n",
      "\n",
      "\n",
      "\n"
     ]
    }
   ],
   "source": [
    "# Split the data into features and target\n",
    "X = master_bank_df[[\"Amount\", \"Balance\", \"Type\", \"Day_Type\"]]\n",
    "y = master_bank_df['anomaly']\n",
    "\n",
    "# Split the data into training and testing sets\n",
    "X_train, X_test, y_train, y_test = train_test_split(X, y, test_size=0.1, random_state=42)\n",
    "\n",
    "\n",
    "classifiers = {\n",
    "    'Random Forest': RandomForestClassifier(n_estimators=100, random_state=42),\n",
    "    'XGBoost': XGBClassifier(learning_rate=0.1, n_estimators=100, random_state=42),\n",
    "    'CatBoost': CatBoostClassifier(learning_rate=0.1, n_estimators=100, verbose=0, random_state=42)\n",
    "}\n",
    "\n",
    "# Loop through the classifiers and perform evaluation\n",
    "for clf_name, clf in classifiers.items():\n",
    "    precision_cv = cross_val_score(clf, X_train, y_train, cv=10, scoring='precision_macro')\n",
    "    recall_cv = cross_val_score(clf, X_train, y_train, cv=10, scoring='recall_macro')\n",
    "    f1_cv = cross_val_score(clf, X_train, y_train, cv=10, scoring='f1_macro')\n",
    "\n",
    "    clf.fit(X_train, y_train)\n",
    "\n",
    "    # Predict on the test set\n",
    "    y_pred = clf.predict(X_test)\n",
    "\n",
    "    # Generate a classification report on the test set\n",
    "    report = classification_report(y_test, y_pred, target_names=[\"Non-Risky Transaction\", \"Risky Transaction\"])\n",
    "\n",
    "    # Print the classification report\n",
    "    print(f\"Classifier: {clf_name}\")\n",
    "    print(\"Cross-Validation - Precision:\", precision_cv.mean())\n",
    "    print(\"Cross-Validation - Recall:\", recall_cv.mean())\n",
    "    print(\"Cross-Validation - F1 Score:\", f1_cv.mean())\n",
    "    print(\"Test Set Classification Report:\")\n",
    "    print(report)\n",
    "    print(\"\\n\")"
   ]
  },
  {
   "cell_type": "markdown",
   "metadata": {},
   "source": [
    "From the above result, XGboost is utilized as the final model candidate and will be further tune (hyperparameter tuning) and deployed with FastAPI"
   ]
  },
  {
   "cell_type": "code",
   "execution_count": 70,
   "metadata": {},
   "outputs": [],
   "source": [
    "clf = XGBClassifier(random_state=42)"
   ]
  },
  {
   "cell_type": "code",
   "execution_count": 75,
   "metadata": {},
   "outputs": [],
   "source": [
    "param_grid = {\n",
    "    'n_estimators': [50, 100, 200, 300],  # Number of trees\n",
    "    'max_depth': [2, 3, 4, 5],         # Maximum tree depth\n",
    "    'learning_rate': [0.01, 0.1, 0.2]  # Learning rate\n",
    "}\n",
    "\n",
    "# Create a GridSearchCV object to perform hyperparameter tuning\n",
    "grid_search = GridSearchCV(clf, param_grid, cv=10, scoring='recall')"
   ]
  },
  {
   "cell_type": "code",
   "execution_count": 76,
   "metadata": {},
   "outputs": [],
   "source": [
    "# Fit the grid search to your data\n",
    "grid_search.fit(X_train, y_train)\n",
    "\n",
    "# Get the best hyperparameters\n",
    "best_params = grid_search.best_params_\n",
    "\n"
   ]
  },
  {
   "cell_type": "code",
   "execution_count": 77,
   "metadata": {},
   "outputs": [
    {
     "data": {
      "text/plain": [
       "{'learning_rate': 0.1, 'max_depth': 2, 'n_estimators': 300}"
      ]
     },
     "execution_count": 77,
     "metadata": {},
     "output_type": "execute_result"
    }
   ],
   "source": [
    "best_params"
   ]
  },
  {
   "cell_type": "code",
   "execution_count": 80,
   "metadata": {},
   "outputs": [],
   "source": [
    "# Train the model with the best hyperparameters\n",
    "best_xgb_model = XGBClassifier(**best_params)\n",
    "best_xgb_model.fit(X_train, y_train)\n",
    "\n",
    "# Make predictions on the test set\n",
    "y_pred = best_xgb_model.predict(X_test)"
   ]
  },
  {
   "cell_type": "code",
   "execution_count": 85,
   "metadata": {},
   "outputs": [
    {
     "name": "stdout",
     "output_type": "stream",
     "text": [
      "                       precision    recall  f1-score   support\n",
      "\n",
      "Non-Risky Transaction       1.00      0.99      0.99        67\n",
      "    Risky Transaction       0.83      1.00      0.91         5\n",
      "\n",
      "             accuracy                           0.99        72\n",
      "            macro avg       0.92      0.99      0.95        72\n",
      "         weighted avg       0.99      0.99      0.99        72\n",
      "\n"
     ]
    }
   ],
   "source": [
    "print(classification_report(y_test, y_pred, target_names=[\"Non-Risky Transaction\", \"Risky Transaction\"]))"
   ]
  },
  {
   "cell_type": "markdown",
   "metadata": {},
   "source": [
    "Based on the hyperparameter tuning result, there is no improvement made during the process mainly due to the limited number of samples. If I were given more time to work on this task, I would try to acquire more sample to get a better model performance"
   ]
  },
  {
   "cell_type": "markdown",
   "metadata": {},
   "source": [
    "## Model Explainability"
   ]
  },
  {
   "cell_type": "code",
   "execution_count": 86,
   "metadata": {},
   "outputs": [],
   "source": [
    "import shap"
   ]
  },
  {
   "cell_type": "code",
   "execution_count": 87,
   "metadata": {},
   "outputs": [],
   "source": [
    "clf = XGBClassifier(**best_params)"
   ]
  },
  {
   "cell_type": "code",
   "execution_count": 88,
   "metadata": {
    "scrolled": true
   },
   "outputs": [
    {
     "data": {
      "text/html": [
       "<style>#sk-container-id-3 {color: black;background-color: white;}#sk-container-id-3 pre{padding: 0;}#sk-container-id-3 div.sk-toggleable {background-color: white;}#sk-container-id-3 label.sk-toggleable__label {cursor: pointer;display: block;width: 100%;margin-bottom: 0;padding: 0.3em;box-sizing: border-box;text-align: center;}#sk-container-id-3 label.sk-toggleable__label-arrow:before {content: \"▸\";float: left;margin-right: 0.25em;color: #696969;}#sk-container-id-3 label.sk-toggleable__label-arrow:hover:before {color: black;}#sk-container-id-3 div.sk-estimator:hover label.sk-toggleable__label-arrow:before {color: black;}#sk-container-id-3 div.sk-toggleable__content {max-height: 0;max-width: 0;overflow: hidden;text-align: left;background-color: #f0f8ff;}#sk-container-id-3 div.sk-toggleable__content pre {margin: 0.2em;color: black;border-radius: 0.25em;background-color: #f0f8ff;}#sk-container-id-3 input.sk-toggleable__control:checked~div.sk-toggleable__content {max-height: 200px;max-width: 100%;overflow: auto;}#sk-container-id-3 input.sk-toggleable__control:checked~label.sk-toggleable__label-arrow:before {content: \"▾\";}#sk-container-id-3 div.sk-estimator input.sk-toggleable__control:checked~label.sk-toggleable__label {background-color: #d4ebff;}#sk-container-id-3 div.sk-label input.sk-toggleable__control:checked~label.sk-toggleable__label {background-color: #d4ebff;}#sk-container-id-3 input.sk-hidden--visually {border: 0;clip: rect(1px 1px 1px 1px);clip: rect(1px, 1px, 1px, 1px);height: 1px;margin: -1px;overflow: hidden;padding: 0;position: absolute;width: 1px;}#sk-container-id-3 div.sk-estimator {font-family: monospace;background-color: #f0f8ff;border: 1px dotted black;border-radius: 0.25em;box-sizing: border-box;margin-bottom: 0.5em;}#sk-container-id-3 div.sk-estimator:hover {background-color: #d4ebff;}#sk-container-id-3 div.sk-parallel-item::after {content: \"\";width: 100%;border-bottom: 1px solid gray;flex-grow: 1;}#sk-container-id-3 div.sk-label:hover label.sk-toggleable__label {background-color: #d4ebff;}#sk-container-id-3 div.sk-serial::before {content: \"\";position: absolute;border-left: 1px solid gray;box-sizing: border-box;top: 0;bottom: 0;left: 50%;z-index: 0;}#sk-container-id-3 div.sk-serial {display: flex;flex-direction: column;align-items: center;background-color: white;padding-right: 0.2em;padding-left: 0.2em;position: relative;}#sk-container-id-3 div.sk-item {position: relative;z-index: 1;}#sk-container-id-3 div.sk-parallel {display: flex;align-items: stretch;justify-content: center;background-color: white;position: relative;}#sk-container-id-3 div.sk-item::before, #sk-container-id-3 div.sk-parallel-item::before {content: \"\";position: absolute;border-left: 1px solid gray;box-sizing: border-box;top: 0;bottom: 0;left: 50%;z-index: -1;}#sk-container-id-3 div.sk-parallel-item {display: flex;flex-direction: column;z-index: 1;position: relative;background-color: white;}#sk-container-id-3 div.sk-parallel-item:first-child::after {align-self: flex-end;width: 50%;}#sk-container-id-3 div.sk-parallel-item:last-child::after {align-self: flex-start;width: 50%;}#sk-container-id-3 div.sk-parallel-item:only-child::after {width: 0;}#sk-container-id-3 div.sk-dashed-wrapped {border: 1px dashed gray;margin: 0 0.4em 0.5em 0.4em;box-sizing: border-box;padding-bottom: 0.4em;background-color: white;}#sk-container-id-3 div.sk-label label {font-family: monospace;font-weight: bold;display: inline-block;line-height: 1.2em;}#sk-container-id-3 div.sk-label-container {text-align: center;}#sk-container-id-3 div.sk-container {/* jupyter's `normalize.less` sets `[hidden] { display: none; }` but bootstrap.min.css set `[hidden] { display: none !important; }` so we also need the `!important` here to be able to override the default hidden behavior on the sphinx rendered scikit-learn.org. See: https://github.com/scikit-learn/scikit-learn/issues/21755 */display: inline-block !important;position: relative;}#sk-container-id-3 div.sk-text-repr-fallback {display: none;}</style><div id=\"sk-container-id-3\" class=\"sk-top-container\"><div class=\"sk-text-repr-fallback\"><pre>XGBClassifier(base_score=None, booster=None, callbacks=None,\n",
       "              colsample_bylevel=None, colsample_bynode=None,\n",
       "              colsample_bytree=None, early_stopping_rounds=None,\n",
       "              enable_categorical=False, eval_metric=None, feature_types=None,\n",
       "              gamma=None, gpu_id=None, grow_policy=None, importance_type=None,\n",
       "              interaction_constraints=None, learning_rate=0.1, max_bin=None,\n",
       "              max_cat_threshold=None, max_cat_to_onehot=None,\n",
       "              max_delta_step=None, max_depth=2, max_leaves=None,\n",
       "              min_child_weight=None, missing=nan, monotone_constraints=None,\n",
       "              n_estimators=300, n_jobs=None, num_parallel_tree=None,\n",
       "              predictor=None, random_state=None, ...)</pre><b>In a Jupyter environment, please rerun this cell to show the HTML representation or trust the notebook. <br />On GitHub, the HTML representation is unable to render, please try loading this page with nbviewer.org.</b></div><div class=\"sk-container\" hidden><div class=\"sk-item\"><div class=\"sk-estimator sk-toggleable\"><input class=\"sk-toggleable__control sk-hidden--visually\" id=\"sk-estimator-id-3\" type=\"checkbox\" checked><label for=\"sk-estimator-id-3\" class=\"sk-toggleable__label sk-toggleable__label-arrow\">XGBClassifier</label><div class=\"sk-toggleable__content\"><pre>XGBClassifier(base_score=None, booster=None, callbacks=None,\n",
       "              colsample_bylevel=None, colsample_bynode=None,\n",
       "              colsample_bytree=None, early_stopping_rounds=None,\n",
       "              enable_categorical=False, eval_metric=None, feature_types=None,\n",
       "              gamma=None, gpu_id=None, grow_policy=None, importance_type=None,\n",
       "              interaction_constraints=None, learning_rate=0.1, max_bin=None,\n",
       "              max_cat_threshold=None, max_cat_to_onehot=None,\n",
       "              max_delta_step=None, max_depth=2, max_leaves=None,\n",
       "              min_child_weight=None, missing=nan, monotone_constraints=None,\n",
       "              n_estimators=300, n_jobs=None, num_parallel_tree=None,\n",
       "              predictor=None, random_state=None, ...)</pre></div></div></div></div></div>"
      ],
      "text/plain": [
       "XGBClassifier(base_score=None, booster=None, callbacks=None,\n",
       "              colsample_bylevel=None, colsample_bynode=None,\n",
       "              colsample_bytree=None, early_stopping_rounds=None,\n",
       "              enable_categorical=False, eval_metric=None, feature_types=None,\n",
       "              gamma=None, gpu_id=None, grow_policy=None, importance_type=None,\n",
       "              interaction_constraints=None, learning_rate=0.1, max_bin=None,\n",
       "              max_cat_threshold=None, max_cat_to_onehot=None,\n",
       "              max_delta_step=None, max_depth=2, max_leaves=None,\n",
       "              min_child_weight=None, missing=nan, monotone_constraints=None,\n",
       "              n_estimators=300, n_jobs=None, num_parallel_tree=None,\n",
       "              predictor=None, random_state=None, ...)"
      ]
     },
     "execution_count": 88,
     "metadata": {},
     "output_type": "execute_result"
    }
   ],
   "source": [
    "clf.fit(X_train, y_train)"
   ]
  },
  {
   "cell_type": "code",
   "execution_count": 89,
   "metadata": {},
   "outputs": [],
   "source": [
    "y_pred = clf.predict(X_test)"
   ]
  },
  {
   "cell_type": "code",
   "execution_count": 90,
   "metadata": {},
   "outputs": [],
   "source": [
    "explainer = shap.Explainer(clf, X_train)\n",
    "shap_values = explainer(X_train)"
   ]
  },
  {
   "cell_type": "code",
   "execution_count": 91,
   "metadata": {},
   "outputs": [
    {
     "data": {
      "image/png": "[encoded data removed]",
      "text/plain": [
       "<Figure size 800x310 with 1 Axes>"
      ]
     },
     "metadata": {},
     "output_type": "display_data"
    }
   ],
   "source": [
    "shap.summary_plot(shap_values, X_train, plot_type='bar')"
   ]
  },
  {
   "cell_type": "code",
   "execution_count": 92,
   "metadata": {},
   "outputs": [
    {
     "data": {
      "image/png": "[encoded data removed]",
      "text/plain": [
       "<Figure size 800x310 with 2 Axes>"
      ]
     },
     "metadata": {},
     "output_type": "display_data"
    }
   ],
   "source": [
    "shap.plots.beeswarm(shap_values, max_display=15)"
   ]
  },
  {
   "cell_type": "markdown",
   "metadata": {},
   "source": [
    "From the above SHAP value, the `risky` transaction is mainly involved by the `Amount` and `Balance`. If the transaction `Amount` is towards negative number (debit), it could increase the potential of the transaction to be considered as `risky` (the one where we want to avoid made by our customer)"
   ]
  },
  {
   "cell_type": "markdown",
   "metadata": {},
   "source": [
    "## Model Saving"
   ]
  },
  {
   "cell_type": "code",
   "execution_count": 93,
   "metadata": {},
   "outputs": [
    {
     "data": {
      "text/html": [
       "<style>#sk-container-id-4 {color: black;background-color: white;}#sk-container-id-4 pre{padding: 0;}#sk-container-id-4 div.sk-toggleable {background-color: white;}#sk-container-id-4 label.sk-toggleable__label {cursor: pointer;display: block;width: 100%;margin-bottom: 0;padding: 0.3em;box-sizing: border-box;text-align: center;}#sk-container-id-4 label.sk-toggleable__label-arrow:before {content: \"▸\";float: left;margin-right: 0.25em;color: #696969;}#sk-container-id-4 label.sk-toggleable__label-arrow:hover:before {color: black;}#sk-container-id-4 div.sk-estimator:hover label.sk-toggleable__label-arrow:before {color: black;}#sk-container-id-4 div.sk-toggleable__content {max-height: 0;max-width: 0;overflow: hidden;text-align: left;background-color: #f0f8ff;}#sk-container-id-4 div.sk-toggleable__content pre {margin: 0.2em;color: black;border-radius: 0.25em;background-color: #f0f8ff;}#sk-container-id-4 input.sk-toggleable__control:checked~div.sk-toggleable__content {max-height: 200px;max-width: 100%;overflow: auto;}#sk-container-id-4 input.sk-toggleable__control:checked~label.sk-toggleable__label-arrow:before {content: \"▾\";}#sk-container-id-4 div.sk-estimator input.sk-toggleable__control:checked~label.sk-toggleable__label {background-color: #d4ebff;}#sk-container-id-4 div.sk-label input.sk-toggleable__control:checked~label.sk-toggleable__label {background-color: #d4ebff;}#sk-container-id-4 input.sk-hidden--visually {border: 0;clip: rect(1px 1px 1px 1px);clip: rect(1px, 1px, 1px, 1px);height: 1px;margin: -1px;overflow: hidden;padding: 0;position: absolute;width: 1px;}#sk-container-id-4 div.sk-estimator {font-family: monospace;background-color: #f0f8ff;border: 1px dotted black;border-radius: 0.25em;box-sizing: border-box;margin-bottom: 0.5em;}#sk-container-id-4 div.sk-estimator:hover {background-color: #d4ebff;}#sk-container-id-4 div.sk-parallel-item::after {content: \"\";width: 100%;border-bottom: 1px solid gray;flex-grow: 1;}#sk-container-id-4 div.sk-label:hover label.sk-toggleable__label {background-color: #d4ebff;}#sk-container-id-4 div.sk-serial::before {content: \"\";position: absolute;border-left: 1px solid gray;box-sizing: border-box;top: 0;bottom: 0;left: 50%;z-index: 0;}#sk-container-id-4 div.sk-serial {display: flex;flex-direction: column;align-items: center;background-color: white;padding-right: 0.2em;padding-left: 0.2em;position: relative;}#sk-container-id-4 div.sk-item {position: relative;z-index: 1;}#sk-container-id-4 div.sk-parallel {display: flex;align-items: stretch;justify-content: center;background-color: white;position: relative;}#sk-container-id-4 div.sk-item::before, #sk-container-id-4 div.sk-parallel-item::before {content: \"\";position: absolute;border-left: 1px solid gray;box-sizing: border-box;top: 0;bottom: 0;left: 50%;z-index: -1;}#sk-container-id-4 div.sk-parallel-item {display: flex;flex-direction: column;z-index: 1;position: relative;background-color: white;}#sk-container-id-4 div.sk-parallel-item:first-child::after {align-self: flex-end;width: 50%;}#sk-container-id-4 div.sk-parallel-item:last-child::after {align-self: flex-start;width: 50%;}#sk-container-id-4 div.sk-parallel-item:only-child::after {width: 0;}#sk-container-id-4 div.sk-dashed-wrapped {border: 1px dashed gray;margin: 0 0.4em 0.5em 0.4em;box-sizing: border-box;padding-bottom: 0.4em;background-color: white;}#sk-container-id-4 div.sk-label label {font-family: monospace;font-weight: bold;display: inline-block;line-height: 1.2em;}#sk-container-id-4 div.sk-label-container {text-align: center;}#sk-container-id-4 div.sk-container {/* jupyter's `normalize.less` sets `[hidden] { display: none; }` but bootstrap.min.css set `[hidden] { display: none !important; }` so we also need the `!important` here to be able to override the default hidden behavior on the sphinx rendered scikit-learn.org. See: https://github.com/scikit-learn/scikit-learn/issues/21755 */display: inline-block !important;position: relative;}#sk-container-id-4 div.sk-text-repr-fallback {display: none;}</style><div id=\"sk-container-id-4\" class=\"sk-top-container\"><div class=\"sk-text-repr-fallback\"><pre>XGBClassifier(base_score=None, booster=None, callbacks=None,\n",
       "              colsample_bylevel=None, colsample_bynode=None,\n",
       "              colsample_bytree=None, early_stopping_rounds=None,\n",
       "              enable_categorical=False, eval_metric=None, feature_types=None,\n",
       "              gamma=None, gpu_id=None, grow_policy=None, importance_type=None,\n",
       "              interaction_constraints=None, learning_rate=0.1, max_bin=None,\n",
       "              max_cat_threshold=None, max_cat_to_onehot=None,\n",
       "              max_delta_step=None, max_depth=2, max_leaves=None,\n",
       "              min_child_weight=None, missing=nan, monotone_constraints=None,\n",
       "              n_estimators=300, n_jobs=None, num_parallel_tree=None,\n",
       "              predictor=None, random_state=None, ...)</pre><b>In a Jupyter environment, please rerun this cell to show the HTML representation or trust the notebook. <br />On GitHub, the HTML representation is unable to render, please try loading this page with nbviewer.org.</b></div><div class=\"sk-container\" hidden><div class=\"sk-item\"><div class=\"sk-estimator sk-toggleable\"><input class=\"sk-toggleable__control sk-hidden--visually\" id=\"sk-estimator-id-4\" type=\"checkbox\" checked><label for=\"sk-estimator-id-4\" class=\"sk-toggleable__label sk-toggleable__label-arrow\">XGBClassifier</label><div class=\"sk-toggleable__content\"><pre>XGBClassifier(base_score=None, booster=None, callbacks=None,\n",
       "              colsample_bylevel=None, colsample_bynode=None,\n",
       "              colsample_bytree=None, early_stopping_rounds=None,\n",
       "              enable_categorical=False, eval_metric=None, feature_types=None,\n",
       "              gamma=None, gpu_id=None, grow_policy=None, importance_type=None,\n",
       "              interaction_constraints=None, learning_rate=0.1, max_bin=None,\n",
       "              max_cat_threshold=None, max_cat_to_onehot=None,\n",
       "              max_delta_step=None, max_depth=2, max_leaves=None,\n",
       "              min_child_weight=None, missing=nan, monotone_constraints=None,\n",
       "              n_estimators=300, n_jobs=None, num_parallel_tree=None,\n",
       "              predictor=None, random_state=None, ...)</pre></div></div></div></div></div>"
      ],
      "text/plain": [
       "XGBClassifier(base_score=None, booster=None, callbacks=None,\n",
       "              colsample_bylevel=None, colsample_bynode=None,\n",
       "              colsample_bytree=None, early_stopping_rounds=None,\n",
       "              enable_categorical=False, eval_metric=None, feature_types=None,\n",
       "              gamma=None, gpu_id=None, grow_policy=None, importance_type=None,\n",
       "              interaction_constraints=None, learning_rate=0.1, max_bin=None,\n",
       "              max_cat_threshold=None, max_cat_to_onehot=None,\n",
       "              max_delta_step=None, max_depth=2, max_leaves=None,\n",
       "              min_child_weight=None, missing=nan, monotone_constraints=None,\n",
       "              n_estimators=300, n_jobs=None, num_parallel_tree=None,\n",
       "              predictor=None, random_state=None, ...)"
      ]
     },
     "execution_count": 93,
     "metadata": {},
     "output_type": "execute_result"
    }
   ],
   "source": [
    "clf"
   ]
  },
  {
   "cell_type": "code",
   "execution_count": 95,
   "metadata": {},
   "outputs": [],
   "source": [
    "clf.save_model(\"Credit_Risk_Assessment_Classifier.model\")"
   ]
  },
  {
   "cell_type": "markdown",
   "metadata": {},
   "source": [
    "# Potential Improvement Points"
   ]
  },
  {
   "cell_type": "markdown",
   "metadata": {},
   "source": [
    "1. Due to the limited sample data given, creating classification algorithm based on each customer level is not feasible. Currently there are only 3 distinct customers and each customer's bank statement data is not in the same snapshot (different transaction month). However, if the time permits, I would like to explore in creating a classifier based on each customer level's status (bad and good customers ) and the feature for the model is coming from the bank statement activity data (such as number of credit and debit transaction, average income in the last 3 months, number of highest balance and lowest balance, etc). \n",
    "2. Syntethic data could help to enable the above process but with the time constraint, I haven't tried this method. Syntethic data could be generated from LLM / Generative-AI to create a better syntethic data  "
   ]
  },
  {
   "cell_type": "markdown",
   "metadata": {},
   "source": []
  }
 ],
 "metadata": {
  "kernelspec": {
   "display_name": "personal-analytics",
   "language": "python",
   "name": "personal-analytics"
  },
  "language_info": {
   "codemirror_mode": {
    "name": "ipython",
    "version": 3
   },
   "file_extension": ".py",
   "mimetype": "text/x-python",
   "name": "python",
   "nbconvert_exporter": "python",
   "pygments_lexer": "ipython3",
   "version": "3.10.9"
  },
  "toc": {
   "base_numbering": 1,
   "nav_menu": {},
   "number_sections": true,
   "sideBar": true,
   "skip_h1_title": false,
   "title_cell": "Table of Contents",
   "title_sidebar": "Contents",
   "toc_cell": false,
   "toc_position": {
    "height": "calc(100% - 180px)",
    "left": "10px",
    "top": "150px",
    "width": "256px"
   },
   "toc_section_display": true,
   "toc_window_display": true
  }
 },
 "nbformat": 4,
 "nbformat_minor": 2
}
